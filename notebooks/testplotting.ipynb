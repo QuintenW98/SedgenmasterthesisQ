{
 "cells": [
  {
   "cell_type": "code",
   "execution_count": 2,
   "metadata": {},
   "outputs": [],
   "source": [
    "import numpy as np\n",
    "import numba as nb\n",
    "from numba.typed import List\n",
    "import pandas as pd\n",
    "import itertools\n",
    "from operator import itemgetter\n",
    "import gc\n",
    "\n",
    "from scipy.stats import norm, lognorm, truncnorm\n",
    "import matplotlib.pyplot as plt\n",
    "import seaborn as sns\n",
    "\n",
    "from collections import Counter, deque\n",
    "from sys import getsizeof\n",
    "from sedgen.initialization import SedGen\n",
    "from sedgen import initialization as ini\n",
    "from sedgen import general as gen\n",
    "from sedgen import preprocessing\n"
   ]
  },
  {
   "cell_type": "code",
   "execution_count": 3,
   "metadata": {},
   "outputs": [],
   "source": [
    "from IPython.core.interactiveshell import InteractiveShell\n",
    "InteractiveShell.ast_node_interactivity = \"all\"\n",
    "# Load jupyter extension to reload packages before executing user code.\n",
    "# https://ipython.readthedocs.io/en/stable/config/extensions/autoreload.html\n",
    "%load_ext autoreload\n",
    "# Reload all packages (except those excluded by %aimport) every time \n",
    "# before executing the Python code typed.\n",
    "%autoreload 2"
   ]
  },
  {
   "cell_type": "code",
   "execution_count": 4,
   "metadata": {},
   "outputs": [],
   "source": [
    "minerals = [\"Q\", \"P\", \"K\", \"B\", \"O\", \"A\"]\n",
    "\n",
    "modal_mineralogy = np.array([[0.16331256, 0.46387757, 0.12683457, 0.05758711, 0.01078412, 0.17760407],   # AZ\n",
    "                             [0.27453254, 0.40124204, 0.24993859, 0.02509231, 0.00454988, 0.04464465],   # CA-EW\n",
    "                             [0.30591989, 0.38159713, 0.26209888, 0.0188256 , 0.00799247, 0.02356603],   # CA-NS\n",
    "                             [0.19781274, 0.41766034, 0.16121575, 0.06478527, 0.00894429, 0.14958161],   # GR\n",
    "                             [0.25983144, 0.46392506, 0.15827298, 0.04370113, 0.00689158, 0.06737782],   # MT\n",
    "                             [0.22419158, 0.48490082, 0.05641885, 0.11571367, 0.00000001, 0.11877509]])  # WA\n",
    "\n",
    "csds_AZ_means = np.array([0.120, 0.174, 0.112, 0.155, 0.066, 0.079])\n",
    "csds_AZ_stds = np.array([0.359, 0.356, 0.455, 0.399, 0.328, 0.452])\n",
    "\n",
    "csds_CA_EW_means = np.array([0.247, 0.333, 0.292, 0.212, 0.090, 0.127])\n",
    "csds_CA_EW_stds = np.array([0.986, 0.640, 0.497, 0.889, 0.275, 0.502])\n",
    "\n",
    "csds_CA_NS_means = np.array([0.309, 0.330, 0.244, 0.223, 0.120, 0.122])\n",
    "csds_CA_NS_stds = np.array([0.823, 0.683, 0.817, 0.819, 0.554, 0.782])\n",
    "\n",
    "csds_GR_means = np.array([0.244, 0.269, 0.222, 0.251, 0.059, 0.107])\n",
    "csds_GR_stds = np.array([0.312, 0.450, 0.444, 0.262, 0.378, 0.313])\n",
    "\n",
    "csds_MT_means = np.array([0.220, 0.227, 0.160, 0.153, 0.078, 0.075])\n",
    "csds_MT_stds = np.array([0.472, 0.415, 0.344, 0.363, 0.315, 0.599])\n",
    "\n",
    "csds_WA_means = np.array([0.342, 0.385, 0.241, 0.481, 0.001, 0.130])\n",
    "csds_WA_stds = np.array([0.542, 0.478, 0.386, 0.467, 0.001, 0.494])\n",
    "\n"
   ]
  },
  {
   "cell_type": "code",
   "execution_count": 9,
   "metadata": {},
   "outputs": [
    {
     "name": "stdout",
     "output_type": "stream",
     "text": [
      "---SedGen model initialization started---\n",
      "\n",
      "Initializing modal mineralogy...\n",
      "Initializing csds...\n",
      "Initializing bins...\n",
      "Simulating mineral occurences... |Q|P|K|B|O|A| Done in 37.1253 seconds\n",
      "Initializing interfaces... |Q|P|K|B|O|A| Done in 84.2002 seconds\n",
      "Counting interfaces...  Done in 0.8572 seconds\n",
      "Correcting interface arrays for consistency...\n",
      "too much Q 3\n",
      "too few P -1\n",
      "all good K 0\n",
      "too few B -1\n",
      "too few O -1\n",
      "all good A 0\n",
      "Initializing crystal size array... |Q|P|K|B|O|A| Done in 6.5167 seconds\n",
      "Initializing inter-crystal breakage probability arrays...\n",
      "Initializing model evolution arrays...\n",
      "\n",
      "---SedGen model initialization finished succesfully---\n",
      "---SedGen model initialization started---\n",
      "\n",
      "Initializing modal mineralogy...\n",
      "Initializing csds...\n",
      "Initializing bins...\n",
      "Simulating mineral occurences... |Q|P|K|B|O|A| Done in 42.6691 seconds\n",
      "Initializing interfaces... |Q|P|K|B|O|A| Done in 90.0715 seconds\n",
      "Counting interfaces...  Done in 0.8333 seconds\n",
      "Correcting interface arrays for consistency...\n",
      "too much Q 6\n",
      "too few P -2\n",
      "too few K -2\n",
      "all good B 0\n",
      "all good O 0\n",
      "too few A -2\n",
      "Initializing crystal size array... |Q|P|K|B|O|A| Done in 5.2181 seconds\n",
      "Initializing inter-crystal breakage probability arrays...\n",
      "Initializing model evolution arrays...\n",
      "\n",
      "---SedGen model initialization finished succesfully---\n",
      "---SedGen model initialization started---\n",
      "\n",
      "Initializing modal mineralogy...\n",
      "Initializing csds...\n",
      "Initializing bins...\n",
      "Simulating mineral occurences... |Q|P|K|B|O|A| Done in 46.1342 seconds\n",
      "Initializing interfaces... |Q|P|K|B|O|A| Done in 85.3447 seconds\n",
      "Counting interfaces...  Done in 0.8318 seconds\n",
      "Correcting interface arrays for consistency...\n",
      "too much Q 3\n",
      "too few P -1\n",
      "too few K -1\n",
      "all good B 0\n",
      "all good O 0\n",
      "too few A -1\n",
      "Initializing crystal size array... |Q|P|K|B|O|A| Done in 5.2643 seconds\n",
      "Initializing inter-crystal breakage probability arrays...\n",
      "Initializing model evolution arrays...\n",
      "\n",
      "---SedGen model initialization finished succesfully---\n",
      "---SedGen model initialization started---\n",
      "\n",
      "Initializing modal mineralogy...\n",
      "Initializing csds...\n",
      "Initializing bins...\n",
      "Simulating mineral occurences... |Q|P|K|B|O|A| Done in 102.6122 seconds\n",
      "Initializing interfaces... |Q|P|K|B|O|A| Done in 82.0513 seconds\n",
      "Counting interfaces...  Done in 0.8337 seconds\n",
      "Correcting interface arrays for consistency...\n",
      "too much Q 2\n",
      "all good P 0\n",
      "too few K -2\n",
      "all good B 0\n",
      "all good O 0\n",
      "all good A 0\n",
      "Initializing crystal size array... |Q|P|K|B|O|A| Done in 5.2822 seconds\n",
      "Initializing inter-crystal breakage probability arrays...\n",
      "Initializing model evolution arrays...\n",
      "\n",
      "---SedGen model initialization finished succesfully---\n"
     ]
    }
   ],
   "source": [
    "par_rock = 1e9\n",
    "data1 = SedGen(minerals, par_rock, modal_mineralogy[1], csds_AZ_means, csds_AZ_stds, learning_rate = 100, discretization_init = False, timed = True)\n",
    "datapunt1 = np.sum(data1.simulated_volume)/par_rock\n",
    "data2 = SedGen(minerals, par_rock, modal_mineralogy[1], csds_AZ_means, csds_AZ_stds, learning_rate = 1000, discretization_init = False, timed = True)\n",
    "datapunt2 = np.sum(data2.simulated_volume)/par_rock\n",
    "data3 = SedGen(minerals, par_rock, modal_mineralogy[1], csds_AZ_means, csds_AZ_stds, learning_rate = 10000, discretization_init = False, timed = True)\n",
    "datapunt3 = np.sum(data3.simulated_volume)/par_rock\n",
    "data4 = SedGen(minerals, par_rock, modal_mineralogy[1], csds_AZ_means, csds_AZ_stds, learning_rate = 100000, discretization_init = False, timed = True)\n",
    "datapunt4 = np.sum(data4.simulated_volume)/par_rock"
   ]
  },
  {
   "cell_type": "code",
   "execution_count": 14,
   "metadata": {},
   "outputs": [
    {
     "name": "stdout",
     "output_type": "stream",
     "text": [
      "[2. 3. 4. 5.]\n"
     ]
    },
    {
     "data": {
      "text/plain": [
       "[<matplotlib.lines.Line2D at 0x21525a3c8e0>]"
      ]
     },
     "execution_count": 14,
     "metadata": {},
     "output_type": "execute_result"
    },
    {
     "data": {
      "image/png": "[encoded data removed]",
      "text/plain": [
       "<Figure size 432x288 with 1 Axes>"
      ]
     },
     "metadata": {
      "needs_background": "light"
     },
     "output_type": "display_data"
    }
   ],
   "source": [
    "x = np.array([100,1000,10000,100000])\n",
    "\n",
    "y = np.array([datapunt1, datapunt2, datapunt3, datapunt4])\n",
    "logar = np.log10(x)\n",
    "print(logar)\n",
    "\n",
    "plt.plot(logar,y,'ro')"
   ]
  },
  {
   "cell_type": "code",
   "execution_count": 5,
   "metadata": {},
   "outputs": [
    {
     "name": "stdout",
     "output_type": "stream",
     "text": [
      "---SedGen model initialization started---\n",
      "\n",
      "Initializing modal mineralogy...\n",
      "Initializing csds...\n",
      "Initializing bins...\n",
      "Simulating mineral occurences... |Q|P|K|B|O|A| Done in 3.6230 seconds\n",
      "Initializing interfaces... |Q|P|K|B|O|A| Done in 8.3115 seconds\n",
      "Counting interfaces...  Done in 0.0846 seconds\n",
      "Correcting interface arrays for consistency...\n",
      "too much Q 1\n",
      "too few P -1\n",
      "too few K -1\n",
      "all good B 0\n",
      "all good O 0\n",
      "too much A 1\n",
      "Initializing crystal size array... |Q|P|K|B|O|A| Done in 0.5754 seconds\n",
      "Initializing inter-crystal breakage probability arrays...\n",
      "Initializing model evolution arrays...\n",
      "\n",
      "---SedGen model initialization finished succesfully---\n",
      "---SedGen model initialization started---\n",
      "\n",
      "Initializing modal mineralogy...\n",
      "Initializing csds...\n",
      "Initializing bins...\n",
      "Simulating mineral occurences... |Q|P|K|B|O|A| Done in 3.4214 seconds\n",
      "Initializing interfaces... |Q|P|K|B|O|A| Done in 7.6837 seconds\n",
      "Counting interfaces...  Done in 0.0831 seconds\n",
      "Correcting interface arrays for consistency...\n",
      "too much Q 1\n",
      "too few P -1\n",
      "all good K 0\n",
      "all good B 0\n",
      "all good O 0\n",
      "all good A 0\n",
      "Initializing crystal size array... |Q|P|K|B|O|A| Done in 0.5236 seconds\n",
      "Initializing inter-crystal breakage probability arrays...\n",
      "Initializing model evolution arrays...\n",
      "\n",
      "---SedGen model initialization finished succesfully---\n",
      "---SedGen model initialization started---\n",
      "\n",
      "Initializing modal mineralogy...\n",
      "Initializing csds...\n",
      "Initializing bins...\n",
      "Simulating mineral occurences... |Q|P|K|B|O|A| Done in 10.1088 seconds\n",
      "Initializing interfaces... |Q|P|K|B|O|A| Done in 7.6135 seconds\n",
      "Counting interfaces...  Done in 0.0792 seconds\n",
      "Correcting interface arrays for consistency...\n",
      "too much Q 5\n",
      "too few P -3\n",
      "too few K -1\n",
      "too few B -1\n",
      "all good O 0\n",
      "all good A 0\n",
      "Initializing crystal size array... |Q|P|K|B|O|A| Done in 0.5500 seconds\n",
      "Initializing inter-crystal breakage probability arrays...\n",
      "Initializing model evolution arrays...\n",
      "\n",
      "---SedGen model initialization finished succesfully---\n",
      "---SedGen model initialization started---\n",
      "\n",
      "Initializing modal mineralogy...\n",
      "Initializing csds...\n",
      "Initializing bins...\n",
      "Simulating mineral occurences... |Q|P|K|B|O|A| Done in 59.1398 seconds\n",
      "Initializing interfaces... |Q|P|K|B|O|A| Done in 8.0785 seconds\n",
      "Counting interfaces...  Done in 0.0843 seconds\n",
      "Correcting interface arrays for consistency...\n",
      "too much Q 1\n",
      "all good P 0\n",
      "all good K 0\n",
      "too few B -1\n",
      "all good O 0\n",
      "all good A 0\n",
      "Initializing crystal size array... |Q|P|K|B|O|A| Done in 0.5219 seconds\n",
      "Initializing inter-crystal breakage probability arrays...\n",
      "Initializing model evolution arrays...\n",
      "\n",
      "---SedGen model initialization finished succesfully---\n",
      "[2. 3. 4. 5.]\n"
     ]
    },
    {
     "data": {
      "text/plain": [
       "[<matplotlib.lines.Line2D at 0x1c88051c160>]"
      ]
     },
     "execution_count": 5,
     "metadata": {},
     "output_type": "execute_result"
    },
    {
     "data": {
      "image/png": "[encoded data removed]",
      "text/plain": [
       "<Figure size 432x288 with 1 Axes>"
      ]
     },
     "metadata": {
      "needs_background": "light"
     },
     "output_type": "display_data"
    }
   ],
   "source": [
    "par_rock = 1e8\n",
    "data1 = SedGen(minerals, par_rock, modal_mineralogy[1], csds_AZ_means, csds_AZ_stds, learning_rate = 100, discretization_init = False, timed = True)\n",
    "datapunt1 = np.sum(data1.simulated_volume)/par_rock\n",
    "data2 = SedGen(minerals, par_rock, modal_mineralogy[1], csds_AZ_means, csds_AZ_stds, learning_rate = 1000, discretization_init = False, timed = True)\n",
    "datapunt2 = np.sum(data2.simulated_volume)/par_rock\n",
    "data3 = SedGen(minerals, par_rock, modal_mineralogy[1], csds_AZ_means, csds_AZ_stds, learning_rate = 10000, discretization_init = False, timed = True)\n",
    "datapunt3 = np.sum(data3.simulated_volume)/par_rock\n",
    "data4 = SedGen(minerals, par_rock, modal_mineralogy[1], csds_AZ_means, csds_AZ_stds, learning_rate = 100000, discretization_init = False, timed = True)\n",
    "datapunt4 = np.sum(data4.simulated_volume)/par_rock\n",
    "x = np.array([100,1000,10000,100000])\n",
    "\n",
    "y = np.array([datapunt1, datapunt2, datapunt3, datapunt4])\n",
    "logar = np.log10(x)\n",
    "print(logar)\n",
    "\n",
    "plt.plot(logar,y,'ro')"
   ]
  },
  {
   "cell_type": "code",
   "execution_count": 8,
   "metadata": {},
   "outputs": [
    {
     "name": "stdout",
     "output_type": "stream",
     "text": [
      "---SedGen model initialization started---\n",
      "\n",
      "Initializing modal mineralogy...\n",
      "Initializing csds...\n",
      "Initializing bins...\n",
      "Simulating mineral occurences... |Q|P|K|B|O|A| Done in 0.6049 seconds\n",
      "Initializing interfaces... |Q|P|K|B|O|A| Done in 0.7104 seconds\n",
      "Counting interfaces...  Done in 0.0077 seconds\n",
      "Correcting interface arrays for consistency...\n",
      "too much Q 1\n",
      "all good P 0\n",
      "too few K -1\n",
      "all good B 0\n",
      "all good O 0\n",
      "all good A 0\n",
      "Initializing crystal size array... |Q|P|K|B|O|A| Done in 0.0485 seconds\n",
      "Initializing inter-crystal breakage probability arrays...\n",
      "Initializing model evolution arrays...\n",
      "\n",
      "---SedGen model initialization finished succesfully---\n",
      "---SedGen model initialization started---\n",
      "\n",
      "Initializing modal mineralogy...\n",
      "Initializing csds...\n",
      "Initializing bins...\n",
      "Simulating mineral occurences... |Q|P|K|B|O|A| Done in 0.7653 seconds\n",
      "Initializing interfaces... |Q|P|K|B|O|A| Done in 0.6876 seconds\n",
      "Counting interfaces...  Done in 0.0079 seconds\n",
      "Correcting interface arrays for consistency...\n",
      "all good Q 0\n",
      "all good P 0\n",
      "too few K -1\n",
      "too much B 1\n",
      "all good O 0\n",
      "all good A 0\n",
      "Initializing crystal size array... |Q|P|K|B|O|A| Done in 0.0479 seconds\n",
      "Initializing inter-crystal breakage probability arrays...\n",
      "Initializing model evolution arrays...\n",
      "\n",
      "---SedGen model initialization finished succesfully---\n",
      "---SedGen model initialization started---\n",
      "\n",
      "Initializing modal mineralogy...\n",
      "Initializing csds...\n",
      "Initializing bins...\n",
      "Simulating mineral occurences... |Q|P|K|B|O|A| Done in 5.2011 seconds\n",
      "Initializing interfaces... |Q|P|K|B|O|A| Done in 0.7145 seconds\n",
      "Counting interfaces...  Done in 0.0078 seconds\n",
      "Correcting interface arrays for consistency...\n",
      "too much Q 10\n",
      "too few P -4\n",
      "too few K -2\n",
      "too few B -2\n",
      "too few O -1\n",
      "too few A -1\n",
      "Initializing crystal size array... |Q|P|K|B|O|A| Done in 0.0475 seconds\n",
      "Initializing inter-crystal breakage probability arrays...\n",
      "Initializing model evolution arrays...\n",
      "\n",
      "---SedGen model initialization finished succesfully---\n",
      "---SedGen model initialization started---\n",
      "\n",
      "Initializing modal mineralogy...\n",
      "Initializing csds...\n",
      "Initializing bins...\n",
      "Simulating mineral occurences... |Q|P|K|B|O|A| Done in 56.8812 seconds\n",
      "Initializing interfaces... |Q|P|K|B|O|A| Done in 0.7845 seconds\n",
      "Counting interfaces...  Done in 0.0087 seconds\n",
      "Correcting interface arrays for consistency...\n",
      "too few Q -1\n",
      "all good P 0\n",
      "all good K 0\n",
      "too much B 1\n",
      "all good O 0\n",
      "all good A 0\n",
      "Initializing crystal size array... |Q|P|K|B|O|A| Done in 0.0520 seconds\n",
      "Initializing inter-crystal breakage probability arrays...\n",
      "Initializing model evolution arrays...\n",
      "\n",
      "---SedGen model initialization finished succesfully---\n",
      "[2.69897 3.      4.      5.     ]\n"
     ]
    },
    {
     "data": {
      "text/plain": [
       "[<matplotlib.lines.Line2D at 0x1c8c2a29b20>]"
      ]
     },
     "execution_count": 8,
     "metadata": {},
     "output_type": "execute_result"
    },
    {
     "data": {
      "image/png": "[encoded data removed]",
      "text/plain": [
       "<Figure size 432x288 with 1 Axes>"
      ]
     },
     "metadata": {
      "needs_background": "light"
     },
     "output_type": "display_data"
    }
   ],
   "source": [
    "par_rock = 1e7\n",
    "data1 = SedGen(minerals, par_rock, modal_mineralogy[1], csds_AZ_means, csds_AZ_stds, learning_rate = 500, discretization_init = False, timed = True)\n",
    "datapunt1 = np.sum(data1.simulated_volume)/par_rock\n",
    "data2 = SedGen(minerals, par_rock, modal_mineralogy[1], csds_AZ_means, csds_AZ_stds, learning_rate = 1000, discretization_init = False, timed = True)\n",
    "datapunt2 = np.sum(data2.simulated_volume)/par_rock\n",
    "data3 = SedGen(minerals, par_rock, modal_mineralogy[1], csds_AZ_means, csds_AZ_stds, learning_rate = 10000, discretization_init = False, timed = True)\n",
    "datapunt3 = np.sum(data3.simulated_volume)/par_rock\n",
    "data4 = SedGen(minerals, par_rock, modal_mineralogy[1], csds_AZ_means, csds_AZ_stds, learning_rate = 100000, discretization_init = False, timed = True)\n",
    "datapunt4 = np.sum(data4.simulated_volume)/par_rock\n",
    "x = np.array([500,1000,10000,100000])\n",
    "\n",
    "y = np.array([datapunt1, datapunt2, datapunt3, datapunt4])\n",
    "logar = np.log10(x)\n",
    "print(logar)\n",
    "\n",
    "plt.plot(logar,y,'ro')"
   ]
  },
  {
   "cell_type": "code",
   "execution_count": null,
   "metadata": {},
   "outputs": [],
   "source": []
  },
  {
   "cell_type": "code",
   "execution_count": null,
   "metadata": {},
   "outputs": [],
   "source": []
  },
  {
   "cell_type": "code",
   "execution_count": null,
   "metadata": {},
   "outputs": [],
   "source": []
  },
  {
   "cell_type": "code",
   "execution_count": null,
   "metadata": {},
   "outputs": [],
   "source": []
  },
  {
   "cell_type": "code",
   "execution_count": null,
   "metadata": {},
   "outputs": [],
   "source": []
  },
  {
   "cell_type": "code",
   "execution_count": null,
   "metadata": {},
   "outputs": [],
   "source": []
  },
  {
   "cell_type": "code",
   "execution_count": null,
   "metadata": {},
   "outputs": [],
   "source": []
  },
  {
   "cell_type": "code",
   "execution_count": null,
   "metadata": {},
   "outputs": [],
   "source": []
  },
  {
   "cell_type": "code",
   "execution_count": null,
   "metadata": {},
   "outputs": [],
   "source": []
  },
  {
   "cell_type": "code",
   "execution_count": null,
   "metadata": {},
   "outputs": [],
   "source": []
  },
  {
   "cell_type": "code",
   "execution_count": null,
   "metadata": {},
   "outputs": [],
   "source": []
  },
  {
   "cell_type": "code",
   "execution_count": null,
   "metadata": {},
   "outputs": [],
   "source": []
  },
  {
   "cell_type": "code",
   "execution_count": null,
   "metadata": {},
   "outputs": [],
   "source": [
    "\n",
    "\n"
   ]
  }
 ],
 "metadata": {
  "kernelspec": {
   "display_name": "Python [conda env:sedgen]",
   "language": "python",
   "name": "conda-env-sedgen-py"
  },
  "language_info": {
   "codemirror_mode": {
    "name": "ipython",
    "version": 3
   },
   "file_extension": ".py",
   "mimetype": "text/x-python",
   "name": "python",
   "nbconvert_exporter": "python",
   "pygments_lexer": "ipython3",
   "version": "3.8.5"
  }
 },
 "nbformat": 4,
 "nbformat_minor": 4
}
