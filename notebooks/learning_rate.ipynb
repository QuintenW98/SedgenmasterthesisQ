{
 "cells": [
  {
   "cell_type": "raw",
   "metadata": {},
   "source": [
    "To solve the problem of the learning rate: stepwise plan\n",
    "1) according to empirical testing: example for a parent rock volume of 10e9 the optimal learning rate is 1000, for PRV of 10e8, 10000 when the parent rock decreases with factor 10 the learning rate increases by factor 10. A constant value: PRV * learning rate can be introduced and is a constant value for a given pluton we will name this \"pluton_learningrate\"\n",
    "2) Now we need to find a correlation between the mean grainsize with this value so a function ie : pluton_grainsize = ... * mean grainsize +/- ... or even higher grade correlations which will be assessed by plots\n",
    "3) when this formula is enstated we should be able to recalculate based on the grainsize, the \"pluton_learningrate\" and recalculate the optimal learning rate for different parent rock volumes"
   ]
  },
  {
   "cell_type": "code",
   "execution_count": 33,
   "metadata": {},
   "outputs": [
    {
     "name": "stdout",
     "output_type": "stream",
     "text": [
      "The autoreload extension is already loaded. To reload it, use:\n",
      "  %reload_ext autoreload\n"
     ]
    }
   ],
   "source": [
    "import numpy as np\n",
    "import numba as nb\n",
    "from numba.typed import List\n",
    "import pandas as pd\n",
    "import itertools\n",
    "from operator import itemgetter\n",
    "import gc\n",
    "\n",
    "from scipy.stats import norm, lognorm, truncnorm\n",
    "import matplotlib.pyplot as plt\n",
    "import seaborn as sns\n",
    "\n",
    "from collections import Counter, deque\n",
    "from sys import getsizeof\n",
    "from sedgen.initialization import SedGen\n",
    "from sedgen import initialization as ini\n",
    "from sedgen import general as gen\n",
    "from sedgen import preprocessing\n",
    "from IPython.core.interactiveshell import InteractiveShell\n",
    "InteractiveShell.ast_node_interactivity = \"all\"\n",
    "\n",
    "# Load jupyter extension to reload packages before executing user code.\n",
    "# https://ipython.readthedocs.io/en/stable/config/extensions/autoreload.html\n",
    "%load_ext autoreload\n",
    "# Reload all packages (except those excluded by %aimport) every time \n",
    "# before executing the Python code typed.\n",
    "%autoreload 2\n",
    "\n",
    "minerals = [\"Q\", \"P\", \"K\", \"B\", \"O\", \"A\"]\n",
    "modal_mineralogy = np.array([0.30591989, 0.38159713, 0.26209888, 0.0188256 , 0.00799247, 0.02356603])\n",
    "csds_CA_NS_means = np.array([0.309, 0.330, 0.244, 0.223, 0.120, 0.122])\n",
    "csds_CA_NS_stds = np.array([0.823, 0.683, 0.817, 0.819, 0.554, 0.782])\n",
    "par_rock = 1e9"
   ]
  },
  {
   "cell_type": "code",
   "execution_count": 34,
   "metadata": {},
   "outputs": [],
   "source": [
    "def optimise_learnrate(minerals, par_rock_volume, modal_mineralogy, means, stds):\n",
    "    learnrate = 100\n",
    "    counter = 0\n",
    "    while counter != 10:\n",
    "        model = SedGen(minerals, par_rock_volume, modal_mineralogy, means, stds, learning_rate = learnrate, discretization_init=False, timed = True)\n",
    "        modelled_volume = np.sum(model.simulated_volume)\n",
    "        print(par_rock_volume)\n",
    "        print(modelled_volume)\n",
    "        if modelled_volume < ((par_rock_volume*0.0001)+par_rock_volume) and modelled_volume> (par_rock_volume-(par_rock_volume*0.0001)): \n",
    "            break\n",
    "        else:\n",
    "            learnrate *= 10\n",
    "        print(counter, learnrate)\n",
    "        counter += 1\n",
    "    pluton_learnrate = learnrate * par_rock_volume\n",
    "    return (pluton_learnrate)\n",
    "    \n",
    "            "
   ]
  },
  {
   "cell_type": "code",
   "execution_count": 35,
   "metadata": {},
   "outputs": [
    {
     "name": "stdout",
     "output_type": "stream",
     "text": [
      "---SedGen model initialization started---\n",
      "\n",
      "Initializing modal mineralogy...\n",
      "Initializing csds...\n",
      "Initializing bins...\n",
      "Simulating mineral occurences... |Q|P|K|B|O|A| Done in 24.2307 seconds\n",
      "Initializing interfaces... |Q|P|K|B|O|A|[0 0 0 ... 0 0 0]\n",
      "[2 0 1 ... 1 0 0]\n",
      " Done in 64.2205 seconds\n",
      "Counting interfaces...  Done in 0.7182 seconds\n",
      "Correcting interface arrays for consistency...\n",
      "too few Q -7\n",
      "too much P 1\n",
      "too much K 1\n",
      "too much B 2\n",
      "too much O 1\n",
      "too much A 2\n",
      "Initializing crystal size array... |Q|P|K|B|O|A| Done in 4.4068 seconds\n",
      "Initializing inter-crystal breakage probability arrays...\n",
      "Initializing model evolution arrays...\n",
      "\n",
      "---SedGen model initialization finished succesfully---\n",
      "1000000000.0\n",
      "5896667275.989795\n",
      "0 1000\n",
      "---SedGen model initialization started---\n",
      "\n",
      "Initializing modal mineralogy...\n",
      "Initializing csds...\n",
      "Initializing bins...\n",
      "Simulating mineral occurences... |Q|P|K|B|O|A| Done in 4.8614 seconds\n",
      "Initializing interfaces... |Q|P|K|B|O|A|[0 0 0 ... 0 0 0]\n",
      "[1 2 3 ... 0 0 0]\n",
      " Done in 12.6635 seconds\n",
      "Counting interfaces...  Done in 0.1069 seconds\n",
      "Correcting interface arrays for consistency...\n",
      "too much Q 6\n",
      "too few P -1\n",
      "too few K -1\n",
      "too few B -1\n",
      "too few O -2\n",
      "too few A -1\n",
      "Initializing crystal size array... |Q|P|K|B|O|A| Done in 0.8291 seconds\n",
      "Initializing inter-crystal breakage probability arrays...\n",
      "Initializing model evolution arrays...\n",
      "\n",
      "---SedGen model initialization finished succesfully---\n",
      "1000000000.0\n",
      "1144851424.0709462\n",
      "1 10000\n",
      "---SedGen model initialization started---\n",
      "\n",
      "Initializing modal mineralogy...\n",
      "Initializing csds...\n",
      "Initializing bins...\n",
      "Simulating mineral occurences... |Q|P|K|B|O|A| Done in 4.5240 seconds\n",
      "Initializing interfaces... |Q|P|K|B|O|A|[0 0 0 ... 0 0 0]\n",
      "[1 1 3 ... 0 0 0]\n",
      " Done in 9.5024 seconds\n",
      "Counting interfaces...  Done in 0.1169 seconds\n",
      "Correcting interface arrays for consistency...\n",
      "too much Q 1\n",
      "all good P 0\n",
      "all good K 0\n",
      "all good B 0\n",
      "all good O 0\n",
      "too few A -1\n",
      "Initializing crystal size array... |Q|P|K|B|O|A| Done in 0.5728 seconds\n",
      "Initializing inter-crystal breakage probability arrays...\n",
      "Initializing model evolution arrays...\n",
      "\n",
      "---SedGen model initialization finished succesfully---\n",
      "1000000000.0\n",
      "1000010368.3232061\n"
     ]
    },
    {
     "data": {
      "text/plain": [
       "10000000000000.0"
      ]
     },
     "execution_count": 35,
     "metadata": {},
     "output_type": "execute_result"
    }
   ],
   "source": [
    "optimise_learnrate(minerals, par_rock, modal_mineralogy, csds_CA_NS_means, csds_CA_NS_stds)"
   ]
  },
  {
   "cell_type": "code",
   "execution_count": null,
   "metadata": {},
   "outputs": [],
   "source": []
  },
  {
   "cell_type": "code",
   "execution_count": null,
   "metadata": {},
   "outputs": [],
   "source": []
  }
 ],
 "metadata": {
  "kernelspec": {
   "display_name": "Python [conda env:sedgen]",
   "language": "python",
   "name": "conda-env-sedgen-py"
  },
  "language_info": {
   "codemirror_mode": {
    "name": "ipython",
    "version": 3
   },
   "file_extension": ".py",
   "mimetype": "text/x-python",
   "name": "python",
   "nbconvert_exporter": "python",
   "pygments_lexer": "ipython3",
   "version": "3.8.5"
  }
 },
 "nbformat": 4,
 "nbformat_minor": 4
}
