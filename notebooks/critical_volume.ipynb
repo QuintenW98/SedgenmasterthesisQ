{
 "cells": [
  {
   "cell_type": "code",
   "execution_count": 20,
   "metadata": {},
   "outputs": [],
   "source": [
    "def runmodel_getcriticalvolume(Minerals, Modal_mineralogy, csds_means, csds_stds, deviation):\n",
    "    par_rock_old = 1e9\n",
    "    par_rock_new = 1e9\n",
    "    lower_bound =  Modal_mineralogy-(deviation*Modal_mineralogy)\n",
    "    upper_bound =  Modal_mineralogy+(deviation*Modal_mineralogy)\n",
    "    counter = 0\n",
    "    while counter != 50: \n",
    "        model = SedGen(Minerals, par_rock_new, Modal_mineralogy, csds_means, csds_stds, learning_rate = 10000)\n",
    "        proposition1 = model.simulated_volume/par_rock_new >= lower_bound\n",
    "        proposition2 = model.simulated_volume/par_rock_new <= upper_bound\n",
    "        if np.all(proposition1 == True) and np.all(proposition2 == True):\n",
    "            print (\"De modale mineralogy komt overeen voor een parent rock volume van: \",par_rock_new, \"vierkante mm.\")\n",
    "            par_rock_new /= 5\n",
    "            par_rock_old /= 5\n",
    "            counter += 1\n",
    "        else: \n",
    "            print(\"De modale mineralogy komt niet overeen voor een parent rock volume van: \",par_rock_new,\" vierkante mm.\")\n",
    "            par_rock_old = par_rock_new * 5\n",
    "            par_rock_new = (par_rock_old + par_rock_new)/2\n",
    "            counter += 1\n",
    "    print(par_rock_old)\n",
    "    return par_rock_old"
   ]
  },
  {
   "cell_type": "code",
   "execution_count": 12,
   "metadata": {},
   "outputs": [],
   "source": [
    "import numpy as np\n",
    "import numba as nb\n",
    "from numba.typed import List\n",
    "import pandas as pd\n",
    "import itertools\n",
    "from operator import itemgetter\n",
    "import gc\n",
    "\n",
    "from scipy.stats import norm, lognorm, truncnorm\n",
    "import matplotlib.pyplot as plt\n",
    "import seaborn as sns\n",
    "\n",
    "from collections import Counter, deque\n",
    "from sys import getsizeof"
   ]
  },
  {
   "cell_type": "code",
   "execution_count": 13,
   "metadata": {},
   "outputs": [],
   "source": [
    "from sedgen.initialization import SedGen\n",
    "from sedgen import initialization as ini\n",
    "from sedgen import general as gen\n",
    "from sedgen import preprocessing\n"
   ]
  },
  {
   "cell_type": "code",
   "execution_count": 14,
   "metadata": {},
   "outputs": [],
   "source": [
    "from IPython.core.interactiveshell import InteractiveShell\n",
    "InteractiveShell.ast_node_interactivity = \"all\""
   ]
  },
  {
   "cell_type": "code",
   "execution_count": 15,
   "metadata": {},
   "outputs": [
    {
     "name": "stdout",
     "output_type": "stream",
     "text": [
      "The autoreload extension is already loaded. To reload it, use:\n",
      "  %reload_ext autoreload\n"
     ]
    }
   ],
   "source": [
    "# Load jupyter extension to reload packages before executing user code.\n",
    "# https://ipython.readthedocs.io/en/stable/config/extensions/autoreload.html\n",
    "%load_ext autoreload\n",
    "# Reload all packages (except those excluded by %aimport) every time \n",
    "# before executing the Python code typed.\n",
    "%autoreload 2"
   ]
  },
  {
   "cell_type": "code",
   "execution_count": 16,
   "metadata": {},
   "outputs": [],
   "source": [
    "minerals = [\"Q\", \"P\", \"K\", \"B\", \"O\", \"A\"]\n",
    "modal_mineralogy = np.array([0.30591989, 0.38159713, 0.26209888, 0.0188256 , 0.00799247, 0.02356603])\n",
    "csds_CA_NS_means = np.array([0.309, 0.330, 0.244, 0.223, 0.120, 0.122])\n",
    "csds_CA_NS_stds = np.array([0.823, 0.683, 0.817, 0.819, 0.554, 0.782])"
   ]
  },
  {
   "cell_type": "code",
   "execution_count": 21,
   "metadata": {},
   "outputs": [
    {
     "name": "stdout",
     "output_type": "stream",
     "text": [
      "---SedGen model initialization started---\n",
      "\n",
      "Initializing modal mineralogy...\n",
      "Initializing csds...\n",
      "Initializing bins...\n",
      "Simulating mineral occurences... |Q|P|K|B|O|A|\n",
      "Initializing interfaces... |Q|P|K|B|O|A|\n",
      "Counting interfaces...\n",
      "Correcting interface arrays for consistency...\n",
      "too much Q 4\n",
      "too few P -2\n",
      "too few K -1\n",
      "all good B 0\n",
      "all good O 0\n",
      "too few A -1\n",
      "Initializing crystal size array... |Q|P|K|B|O|A|\n",
      "Initializing inter-crystal breakage probability arrays...\n",
      "Initializing model evolution arrays...\n",
      "Initializing discretization for model's weathering...\n",
      "\n",
      "---SedGen model initialization finished succesfully---\n",
      "De modale mineralogy komt overeen voor een parent rock volume van:  1000000000.0 vierkante mm.\n",
      "---SedGen model initialization started---\n",
      "\n",
      "Initializing modal mineralogy...\n",
      "Initializing csds...\n",
      "Initializing bins...\n",
      "Simulating mineral occurences... |Q|P|K|B|O|A|\n",
      "Initializing interfaces... |Q|P|K|B|O|A|\n",
      "Counting interfaces...\n",
      "Correcting interface arrays for consistency...\n",
      "too much Q 3\n",
      "too few P -1\n",
      "too few K -2\n",
      "all good B 0\n",
      "all good O 0\n",
      "all good A 0\n",
      "Initializing crystal size array... |Q|P|K|B|O|A|\n",
      "Initializing inter-crystal breakage probability arrays...\n",
      "Initializing model evolution arrays...\n",
      "Initializing discretization for model's weathering...\n",
      "\n",
      "---SedGen model initialization finished succesfully---\n",
      "De modale mineralogy komt overeen voor een parent rock volume van:  200000000.0 vierkante mm.\n",
      "---SedGen model initialization started---\n",
      "\n",
      "Initializing modal mineralogy...\n",
      "Initializing csds...\n",
      "Initializing bins...\n",
      "Simulating mineral occurences... |Q|P|K|B|O|A|\n",
      "Initializing interfaces... |Q|P|K|B|O|A|\n",
      "Counting interfaces...\n",
      "Correcting interface arrays for consistency...\n",
      "too much Q 5\n",
      "too few P -2\n",
      "too few K -2\n",
      "all good B 0\n",
      "too few O -2\n",
      "too much A 1\n",
      "Initializing crystal size array... |Q|P|K|B|O|A|\n",
      "Initializing inter-crystal breakage probability arrays...\n",
      "Initializing model evolution arrays...\n",
      "Initializing discretization for model's weathering...\n",
      "\n",
      "---SedGen model initialization finished succesfully---\n",
      "De modale mineralogy komt overeen voor een parent rock volume van:  40000000.0 vierkante mm.\n",
      "---SedGen model initialization started---\n",
      "\n",
      "Initializing modal mineralogy...\n",
      "Initializing csds...\n",
      "Initializing bins...\n",
      "Simulating mineral occurences... |Q|P|K|B|O|A|\n",
      "Initializing interfaces... |Q|P|K|B|O|A|\n",
      "Counting interfaces...\n",
      "Correcting interface arrays for consistency...\n",
      "too much Q 6\n",
      "too few P -2\n",
      "too few K -1\n",
      "all good B 0\n",
      "too few O -1\n",
      "too few A -2\n",
      "Initializing crystal size array... |Q|P|K|B|O|A|\n",
      "Initializing inter-crystal breakage probability arrays...\n",
      "Initializing model evolution arrays...\n",
      "Initializing discretization for model's weathering...\n",
      "\n",
      "---SedGen model initialization finished succesfully---\n",
      "De modale mineralogy komt niet overeen voor een parent rock volume van:  8000000.0  vierkante mm.\n",
      "---SedGen model initialization started---\n",
      "\n",
      "Initializing modal mineralogy...\n",
      "Initializing csds...\n",
      "Initializing bins...\n",
      "Simulating mineral occurences... |Q|P|K|B|O|A|\n",
      "Initializing interfaces... |Q|P|K|B|O|A|\n",
      "Counting interfaces...\n",
      "Correcting interface arrays for consistency...\n",
      "too much Q 5\n",
      "too few P -2\n",
      "too few K -1\n",
      "too few B -1\n",
      "all good O 0\n",
      "too few A -1\n",
      "Initializing crystal size array... |Q|P|K|B|O|A|\n",
      "Initializing inter-crystal breakage probability arrays...\n",
      "Initializing model evolution arrays...\n",
      "Initializing discretization for model's weathering...\n",
      "\n",
      "---SedGen model initialization finished succesfully---\n",
      "De modale mineralogy komt niet overeen voor een parent rock volume van:  24000000.0  vierkante mm.\n",
      "---SedGen model initialization started---\n",
      "\n",
      "Initializing modal mineralogy...\n",
      "Initializing csds...\n",
      "Initializing bins...\n",
      "Simulating mineral occurences... |Q|P|K|B|O|A|\n",
      "Initializing interfaces... |Q|P|K|B|O|A|\n",
      "Counting interfaces...\n",
      "Correcting interface arrays for consistency...\n",
      "too much Q 5\n",
      "too few P -2\n"
     ]
    },
    {
     "ename": "IndexError",
     "evalue": "index 71 is out of bounds for axis 0 with size 6",
     "output_type": "error",
     "traceback": [
      "\u001b[1;31m---------------------------------------------------------------------------\u001b[0m",
      "\u001b[1;31mIndexError\u001b[0m                                Traceback (most recent call last)",
      "\u001b[1;32m<ipython-input-21-50876cfeb77c>\u001b[0m in \u001b[0;36m<module>\u001b[1;34m\u001b[0m\n\u001b[1;32m----> 1\u001b[1;33m \u001b[0mrunmodel_getcriticalvolume\u001b[0m\u001b[1;33m(\u001b[0m\u001b[0mminerals\u001b[0m\u001b[1;33m,\u001b[0m\u001b[0mmodal_mineralogy\u001b[0m\u001b[1;33m,\u001b[0m\u001b[0mcsds_CA_NS_means\u001b[0m\u001b[1;33m,\u001b[0m \u001b[0mcsds_CA_NS_stds\u001b[0m\u001b[1;33m,\u001b[0m \u001b[0mdeviation\u001b[0m \u001b[1;33m=\u001b[0m \u001b[1;36m0.05\u001b[0m\u001b[1;33m)\u001b[0m\u001b[1;33m\u001b[0m\u001b[1;33m\u001b[0m\u001b[0m\n\u001b[0m",
      "\u001b[1;32m<ipython-input-20-d9a3e7fee662>\u001b[0m in \u001b[0;36mrunmodel_getcriticalvolume\u001b[1;34m(Minerals, Modal_mineralogy, csds_means, csds_stds, deviation)\u001b[0m\n\u001b[0;32m      6\u001b[0m     \u001b[0mcounter\u001b[0m \u001b[1;33m=\u001b[0m \u001b[1;36m0\u001b[0m\u001b[1;33m\u001b[0m\u001b[1;33m\u001b[0m\u001b[0m\n\u001b[0;32m      7\u001b[0m     \u001b[1;32mwhile\u001b[0m \u001b[0mcounter\u001b[0m \u001b[1;33m!=\u001b[0m \u001b[1;36m50\u001b[0m\u001b[1;33m:\u001b[0m\u001b[1;33m\u001b[0m\u001b[1;33m\u001b[0m\u001b[0m\n\u001b[1;32m----> 8\u001b[1;33m         \u001b[0mmodel\u001b[0m \u001b[1;33m=\u001b[0m \u001b[0mSedGen\u001b[0m\u001b[1;33m(\u001b[0m\u001b[0mMinerals\u001b[0m\u001b[1;33m,\u001b[0m \u001b[0mpar_rock_new\u001b[0m\u001b[1;33m,\u001b[0m \u001b[0mModal_mineralogy\u001b[0m\u001b[1;33m,\u001b[0m \u001b[0mcsds_means\u001b[0m\u001b[1;33m,\u001b[0m \u001b[0mcsds_stds\u001b[0m\u001b[1;33m,\u001b[0m \u001b[0mlearning_rate\u001b[0m \u001b[1;33m=\u001b[0m \u001b[1;36m10000\u001b[0m\u001b[1;33m)\u001b[0m\u001b[1;33m\u001b[0m\u001b[1;33m\u001b[0m\u001b[0m\n\u001b[0m\u001b[0;32m      9\u001b[0m         \u001b[0mproposition1\u001b[0m \u001b[1;33m=\u001b[0m \u001b[0mmodel\u001b[0m\u001b[1;33m.\u001b[0m\u001b[0msimulated_volume\u001b[0m\u001b[1;33m/\u001b[0m\u001b[0mpar_rock_new\u001b[0m \u001b[1;33m>=\u001b[0m \u001b[0mlower_bound\u001b[0m\u001b[1;33m\u001b[0m\u001b[1;33m\u001b[0m\u001b[0m\n\u001b[0;32m     10\u001b[0m         \u001b[0mproposition2\u001b[0m \u001b[1;33m=\u001b[0m \u001b[0mmodel\u001b[0m\u001b[1;33m.\u001b[0m\u001b[0msimulated_volume\u001b[0m\u001b[1;33m/\u001b[0m\u001b[0mpar_rock_new\u001b[0m \u001b[1;33m<=\u001b[0m \u001b[0mupper_bound\u001b[0m\u001b[1;33m\u001b[0m\u001b[1;33m\u001b[0m\u001b[0m\n",
      "\u001b[1;32md:\\unif\\masterthesis\\jupyter\\sedgen\\src\\sedgen\\initialization.py\u001b[0m in \u001b[0;36m__init__\u001b[1;34m(self, minerals, parent_rock_volume, modal_mineralogy, csd_means, csd_stds, interfacial_composition, learning_rate, timed, n_timesteps, n_standard_cases, intra_cb_p, intra_cb_thresholds, chem_weath_rates, enable_interface_location_prob, enable_multi_pcg_breakage, enable_pcg_selection)\u001b[0m\n\u001b[0;32m    214\u001b[0m         \u001b[0mprint\u001b[0m\u001b[1;33m(\u001b[0m\u001b[1;34m\"Correcting interface arrays for consistency...\"\u001b[0m\u001b[1;33m)\u001b[0m\u001b[1;33m\u001b[0m\u001b[1;33m\u001b[0m\u001b[0m\n\u001b[0;32m    215\u001b[0m         \u001b[0mself\u001b[0m\u001b[1;33m.\u001b[0m\u001b[0minterface_array\u001b[0m\u001b[1;33m,\u001b[0m \u001b[0mself\u001b[0m\u001b[1;33m.\u001b[0m\u001b[0minterface_counts_matrix\u001b[0m \u001b[1;33m=\u001b[0m\u001b[0;31m \u001b[0m\u001b[0;31m\\\u001b[0m\u001b[1;33m\u001b[0m\u001b[1;33m\u001b[0m\u001b[0m\n\u001b[1;32m--> 216\u001b[1;33m             \u001b[0mself\u001b[0m\u001b[1;33m.\u001b[0m\u001b[0mperform_interface_array_correction\u001b[0m\u001b[1;33m(\u001b[0m\u001b[1;33m)\u001b[0m\u001b[1;33m\u001b[0m\u001b[1;33m\u001b[0m\u001b[0m\n\u001b[0m\u001b[0;32m    217\u001b[0m \u001b[1;33m\u001b[0m\u001b[0m\n\u001b[0;32m    218\u001b[0m         \u001b[0mprint\u001b[0m\u001b[1;33m(\u001b[0m\u001b[1;34m\"Initializing crystal size array...\"\u001b[0m\u001b[1;33m,\u001b[0m \u001b[0mend\u001b[0m\u001b[1;33m=\u001b[0m\u001b[1;34m\" \"\u001b[0m\u001b[1;33m)\u001b[0m\u001b[1;33m\u001b[0m\u001b[1;33m\u001b[0m\u001b[0m\n",
      "\u001b[1;32md:\\unif\\masterthesis\\jupyter\\sedgen\\src\\sedgen\\initialization.py\u001b[0m in \u001b[0;36mperform_interface_array_correction\u001b[1;34m(self)\u001b[0m\n\u001b[0;32m    493\u001b[0m                 \u001b[1;31m# Add newly formed interfaces to interface_frequencies_corr\u001b[0m\u001b[1;33m\u001b[0m\u001b[1;33m\u001b[0m\u001b[1;33m\u001b[0m\u001b[0m\n\u001b[0;32m    494\u001b[0m                 \u001b[0mpair_index\u001b[0m \u001b[1;33m=\u001b[0m \u001b[1;33m(\u001b[0m\u001b[0minterface_array_corr\u001b[0m\u001b[1;33m[\u001b[0m\u001b[1;33m-\u001b[0m\u001b[1;36m1\u001b[0m\u001b[1;33m]\u001b[0m\u001b[1;33m,\u001b[0m \u001b[0mindex\u001b[0m\u001b[1;33m)\u001b[0m\u001b[1;33m\u001b[0m\u001b[1;33m\u001b[0m\u001b[0m\n\u001b[1;32m--> 495\u001b[1;33m                 \u001b[0minterface_frequencies_corr\u001b[0m\u001b[1;33m[\u001b[0m\u001b[0mpair_index\u001b[0m\u001b[1;33m]\u001b[0m \u001b[1;33m+=\u001b[0m \u001b[0mprob_unit\u001b[0m\u001b[1;33m\u001b[0m\u001b[1;33m\u001b[0m\u001b[0m\n\u001b[0m\u001b[0;32m    496\u001b[0m                 \u001b[1;31m# Add crystals to interface_array_corr\u001b[0m\u001b[1;33m\u001b[0m\u001b[1;33m\u001b[0m\u001b[1;33m\u001b[0m\u001b[0m\n\u001b[0;32m    497\u001b[0m                 \u001b[0minterface_array_corr\u001b[0m \u001b[1;33m=\u001b[0m\u001b[0;31m \u001b[0m\u001b[0;31m\\\u001b[0m\u001b[1;33m\u001b[0m\u001b[1;33m\u001b[0m\u001b[0m\n",
      "\u001b[1;31mIndexError\u001b[0m: index 71 is out of bounds for axis 0 with size 6"
     ]
    }
   ],
   "source": [
    "runmodel_getcriticalvolume(minerals,modal_mineralogy,csds_CA_NS_means, csds_CA_NS_stds, deviation = 0.05)"
   ]
  },
  {
   "cell_type": "code",
   "execution_count": null,
   "metadata": {},
   "outputs": [],
   "source": []
  },
  {
   "cell_type": "code",
   "execution_count": null,
   "metadata": {},
   "outputs": [],
   "source": []
  }
 ],
 "metadata": {
  "kernelspec": {
   "display_name": "Python [conda env:sedgen]",
   "language": "python",
   "name": "conda-env-sedgen-py"
  },
  "language_info": {
   "codemirror_mode": {
    "name": "ipython",
    "version": 3
   },
   "file_extension": ".py",
   "mimetype": "text/x-python",
   "name": "python",
   "nbconvert_exporter": "python",
   "pygments_lexer": "ipython3",
   "version": "3.8.5"
  }
 },
 "nbformat": 4,
 "nbformat_minor": 4
}
