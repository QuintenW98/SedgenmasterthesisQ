{
 "cells": [
  {
   "cell_type": "code",
   "execution_count": null,
   "metadata": {},
   "outputs": [],
   "source": []
  },
  {
   "cell_type": "code",
   "execution_count": 6,
   "metadata": {},
   "outputs": [],
   "source": [
    "import numpy as np\n",
    "import numba as nb\n",
    "from numba.typed import List\n",
    "import pandas as pd\n",
    "import itertools\n",
    "from operator import itemgetter\n",
    "import gc\n",
    "\n",
    "from scipy.stats import norm, lognorm, truncnorm\n",
    "import matplotlib.pyplot as plt\n",
    "import seaborn as sns\n",
    "\n",
    "from collections import Counter, deque\n",
    "from sys import getsizeof"
   ]
  },
  {
   "cell_type": "code",
   "execution_count": 7,
   "metadata": {},
   "outputs": [],
   "source": [
    "from sedgen.initialization import SedGen\n",
    "from sedgen import initialization as ini\n",
    "from sedgen import general as gen\n",
    "from sedgen import preprocessing\n"
   ]
  },
  {
   "cell_type": "code",
   "execution_count": 8,
   "metadata": {},
   "outputs": [],
   "source": [
    "from IPython.core.interactiveshell import InteractiveShell\n",
    "InteractiveShell.ast_node_interactivity = \"all\""
   ]
  },
  {
   "cell_type": "code",
   "execution_count": 9,
   "metadata": {},
   "outputs": [
    {
     "name": "stdout",
     "output_type": "stream",
     "text": [
      "The autoreload extension is already loaded. To reload it, use:\n",
      "  %reload_ext autoreload\n"
     ]
    }
   ],
   "source": [
    "# Load jupyter extension to reload packages before executing user code.\n",
    "# https://ipython.readthedocs.io/en/stable/config/extensions/autoreload.html\n",
    "%load_ext autoreload\n",
    "# Reload all packages (except those excluded by %aimport) every time \n",
    "# before executing the Python code typed.\n",
    "%autoreload 2"
   ]
  },
  {
   "cell_type": "code",
   "execution_count": 10,
   "metadata": {},
   "outputs": [
    {
     "name": "stdout",
     "output_type": "stream",
     "text": [
      "[0.19781274 0.41766034 0.16121575 0.06478527 0.00894429 0.14958161]\n"
     ]
    }
   ],
   "source": [
    "minerals = [\"Q\", \"P\", \"K\", \"B\", \"O\", \"A\"]\n",
    "\n",
    "modal_mineralogy = np.array([[0.16331256, 0.46387757, 0.12683457, 0.05758711, 0.01078412, 0.17760407],   # AZ\n",
    "                             [0.27453254, 0.40124204, 0.24993859, 0.02509231, 0.00454988, 0.04464465],   # CA-EW\n",
    "                             [0.30591989, 0.38159713, 0.26209888, 0.0188256 , 0.00799247, 0.02356603],   # CA-NS\n",
    "                             [0.19781274, 0.41766034, 0.16121575, 0.06478527, 0.00894429, 0.14958161],   # GR\n",
    "                             [0.25983144, 0.46392506, 0.15827298, 0.04370113, 0.00689158, 0.06737782],   # MT\n",
    "                             [0.22419158, 0.48490082, 0.05641885, 0.11571367, 0.00000001, 0.11877509]])\n",
    "\n",
    "csds_AZ_means = np.array([0.120, 0.174, 0.112, 0.155, 0.066, 0.079])\n",
    "csds_AZ_stds = np.array([0.359, 0.356, 0.455, 0.399, 0.328, 0.452])\n",
    "\n",
    "csds_CA_EW_means = np.array([0.247, 0.333, 0.292, 0.212, 0.090, 0.127])\n",
    "csds_CA_EW_stds = np.array([0.986, 0.640, 0.497, 0.889, 0.275, 0.502])\n",
    "\n",
    "csds_CA_NS_means = np.array([0.309, 0.330, 0.244, 0.223, 0.120, 0.122])\n",
    "csds_CA_NS_stds = np.array([0.823, 0.683, 0.817, 0.819, 0.554, 0.782])\n",
    "\n",
    "csds_GR_means = np.array([0.244, 0.269, 0.222, 0.251, 0.059, 0.107])\n",
    "csds_GR_stds = np.array([0.312, 0.450, 0.444, 0.262, 0.378, 0.313])\n",
    "\n",
    "csds_MT_means = np.array([0.220, 0.227, 0.160, 0.153, 0.078, 0.075])\n",
    "csds_MT_stds = np.array([0.472, 0.415, 0.344, 0.363, 0.315, 0.599])\n",
    "\n",
    "csds_WA_means = np.array([0.342, 0.385, 0.241, 0.481, 0.001, 0.130])\n",
    "csds_WA_stds = np.array([0.542, 0.478, 0.386, 0.467, 0.001, 0.494])\n",
    "\n",
    "\n"
   ]
  },
  {
   "cell_type": "code",
   "execution_count": 15,
   "metadata": {},
   "outputs": [
    {
     "name": "stdout",
     "output_type": "stream",
     "text": [
      "---SedGen model initialization started---\n",
      "\n",
      "Initializing modal mineralogy...\n",
      "Initializing csds...\n",
      "Initializing bins...\n",
      "Simulating mineral occurences... |Q|P|K|B|O|A|\n",
      "Initializing interfaces... |Q|P|K|B|O|A|\n",
      "Counting interfaces...\n",
      "Correcting interface arrays for consistency...\n",
      "too much Q 2\n",
      "too few P -1\n",
      "too few K -1\n",
      "all good B 0\n",
      "all good O 0\n",
      "all good A 0\n",
      "Initializing crystal size array... |Q|P|K|B|O|A|\n",
      "Initializing inter-crystal breakage probability arrays...\n",
      "Initializing model evolution arrays...\n",
      "Initializing discretization for model's weathering...\n",
      "100/100\n",
      "---SedGen model initialization finished succesfully---\n"
     ]
    }
   ],
   "source": [
    "SedGen_CA_NS = SedGen(minerals, 1e8, modal_mineralogy[2], csds_CA_NS_means, csds_CA_NS_stds)"
   ]
  },
  {
   "cell_type": "code",
   "execution_count": 16,
   "metadata": {},
   "outputs": [
    {
     "name": "stdout",
     "output_type": "stream",
     "text": [
      "After 67 steps all pcgs have been broken down to mcg\n"
     ]
    }
   ],
   "source": [
    "SedGen_CA_NS_mech = SedGen_CA_NS.weathering(operations = [\"intra_cb\",\"inter_cb\"], timesteps = 100, inplace = False)"
   ]
  },
  {
   "cell_type": "code",
   "execution_count": 18,
   "metadata": {},
   "outputs": [
    {
     "name": "stdout",
     "output_type": "stream",
     "text": [
      "2/100\r"
     ]
    },
    {
     "ename": "TypingError",
     "evalue": "Failed in nopython mode pipeline (step: nopython frontend)\n\u001b[1m\u001b[1m\u001b[1mNo implementation of function Function(<function bincount at 0x00000263B063BA60>) found for signature:\n \n >>> bincount(array(uint8, 1d, C), weights=array(float64, 1d, C), minlength=int64)\n \nThere are 2 candidate implementations:\n\u001b[1m  - Of which 2 did not match due to:\n  Overload in function 'np_bincount': File: numba\\np\\arraymath.py: Line 3445.\n    With argument(s): '(array(uint8, 1d, C), weights=array(float64, 1d, C), minlength=int64)':\u001b[0m\n\u001b[1m   Rejected as the implementation raised a specific error:\n     TypeError: np_bincount() got an unexpected keyword argument 'minlength'\u001b[0m\n  raised from C:\\Users\\quint\\anaconda3\\envs\\sedgen\\lib\\site-packages\\numba\\core\\typing\\templates.py:675\n\u001b[0m\n\u001b[0m\u001b[1mDuring: resolving callee type: Function(<function bincount at 0x00000263B063BA60>)\u001b[0m\n\u001b[0m\u001b[1mDuring: typing of call at d:\\unif\\masterthesis\\jupyter\\sedgen\\src\\sedgen\\general.py (139)\n\u001b[0m\n\u001b[1m\nFile \"..\\..\\sedgen\\src\\sedgen\\general.py\", line 139:\u001b[0m\n\u001b[1mdef weighted_bin_count(a, w, ml=None):\n    <source elided>\n    \"\"\"Returns weighted counts per bin\"\"\"\n\u001b[1m    return np.bincount(a, weights=w, minlength=ml)\n\u001b[0m    \u001b[1m^\u001b[0m\u001b[0m\n",
     "output_type": "error",
     "traceback": [
      "\u001b[1;31m---------------------------------------------------------------------------\u001b[0m",
      "\u001b[1;31mTypingError\u001b[0m                               Traceback (most recent call last)",
      "\u001b[1;32m<ipython-input-18-f54eccddc58d>\u001b[0m in \u001b[0;36m<module>\u001b[1;34m\u001b[0m\n\u001b[1;32m----> 1\u001b[1;33m \u001b[0mSedGen_CA_NS_chem\u001b[0m \u001b[1;33m=\u001b[0m \u001b[0mSedGen_CA_NS\u001b[0m\u001b[1;33m.\u001b[0m\u001b[0mweathering\u001b[0m\u001b[1;33m(\u001b[0m\u001b[0moperations\u001b[0m \u001b[1;33m=\u001b[0m \u001b[1;33m[\u001b[0m\u001b[1;34m\"chem_mcg\"\u001b[0m\u001b[1;33m,\u001b[0m \u001b[1;34m\"chem_pcg\"\u001b[0m\u001b[1;33m]\u001b[0m\u001b[1;33m,\u001b[0m \u001b[0mtimesteps\u001b[0m \u001b[1;33m=\u001b[0m \u001b[1;36m100\u001b[0m\u001b[1;33m,\u001b[0m \u001b[0minplace\u001b[0m \u001b[1;33m=\u001b[0m \u001b[1;32mFalse\u001b[0m\u001b[1;33m)\u001b[0m\u001b[1;33m\u001b[0m\u001b[1;33m\u001b[0m\u001b[0m\n\u001b[0m",
      "\u001b[1;32md:\\unif\\masterthesis\\jupyter\\sedgen\\src\\sedgen\\initialization.py\u001b[0m in \u001b[0;36mweathering\u001b[1;34m(self, operations, display_mass_balance, display_mcg_sums, timesteps, timed, inplace)\u001b[0m\n\u001b[0;32m    663\u001b[0m                         \u001b[0mself\u001b[0m\u001b[1;33m.\u001b[0m\u001b[0mpcg_chem_residue\u001b[0m\u001b[1;33m,\u001b[0m\u001b[0;31m \u001b[0m\u001b[0;31m\\\u001b[0m\u001b[1;33m\u001b[0m\u001b[1;33m\u001b[0m\u001b[0m\n\u001b[0;32m    664\u001b[0m                         \u001b[0mself\u001b[0m\u001b[1;33m.\u001b[0m\u001b[0minterface_counts_matrix\u001b[0m \u001b[1;33m=\u001b[0m\u001b[0;31m \u001b[0m\u001b[0;31m\\\u001b[0m\u001b[1;33m\u001b[0m\u001b[1;33m\u001b[0m\u001b[0m\n\u001b[1;32m--> 665\u001b[1;33m                         \u001b[0mself\u001b[0m\u001b[1;33m.\u001b[0m\u001b[0mchemical_weathering_pcg\u001b[0m\u001b[1;33m(\u001b[0m\u001b[1;33m)\u001b[0m\u001b[1;33m\u001b[0m\u001b[1;33m\u001b[0m\u001b[0m\n\u001b[0m\u001b[0;32m    666\u001b[0m                     \u001b[0mself\u001b[0m\u001b[1;33m.\u001b[0m\u001b[0mpcg_chem_residue_additions\u001b[0m\u001b[1;33m[\u001b[0m\u001b[0mstep\u001b[0m\u001b[1;33m]\u001b[0m \u001b[1;33m=\u001b[0m\u001b[0;31m \u001b[0m\u001b[0;31m\\\u001b[0m\u001b[1;33m\u001b[0m\u001b[1;33m\u001b[0m\u001b[0m\n\u001b[0;32m    667\u001b[0m                         \u001b[0mself\u001b[0m\u001b[1;33m.\u001b[0m\u001b[0mpcg_chem_residue\u001b[0m\u001b[1;33m\u001b[0m\u001b[1;33m\u001b[0m\u001b[0m\n",
      "\u001b[1;32md:\\unif\\masterthesis\\jupyter\\sedgen\\src\\sedgen\\initialization.py\u001b[0m in \u001b[0;36mchemical_weathering_pcg\u001b[1;34m(self, shift)\u001b[0m\n\u001b[0;32m   1192\u001b[0m \u001b[1;33m\u001b[0m\u001b[0m\n\u001b[0;32m   1193\u001b[0m         \u001b[0mresidue_1\u001b[0m \u001b[1;33m=\u001b[0m\u001b[0;31m \u001b[0m\u001b[0;31m\\\u001b[0m\u001b[1;33m\u001b[0m\u001b[1;33m\u001b[0m\u001b[0m\n\u001b[1;32m-> 1194\u001b[1;33m             gen.weighted_bin_count(pcg_dissolved,\n\u001b[0m\u001b[0;32m   1195\u001b[0m                                    \u001b[0mvolumes_old_selected\u001b[0m\u001b[1;33m,\u001b[0m\u001b[1;33m\u001b[0m\u001b[1;33m\u001b[0m\u001b[0m\n\u001b[0;32m   1196\u001b[0m                                    self.n_minerals)\n",
      "\u001b[1;32m~\\anaconda3\\envs\\sedgen\\lib\\site-packages\\numba\\core\\dispatcher.py\u001b[0m in \u001b[0;36m_compile_for_args\u001b[1;34m(self, *args, **kws)\u001b[0m\n\u001b[0;32m    413\u001b[0m                 \u001b[0me\u001b[0m\u001b[1;33m.\u001b[0m\u001b[0mpatch_message\u001b[0m\u001b[1;33m(\u001b[0m\u001b[0mmsg\u001b[0m\u001b[1;33m)\u001b[0m\u001b[1;33m\u001b[0m\u001b[1;33m\u001b[0m\u001b[0m\n\u001b[0;32m    414\u001b[0m \u001b[1;33m\u001b[0m\u001b[0m\n\u001b[1;32m--> 415\u001b[1;33m             \u001b[0merror_rewrite\u001b[0m\u001b[1;33m(\u001b[0m\u001b[0me\u001b[0m\u001b[1;33m,\u001b[0m \u001b[1;34m'typing'\u001b[0m\u001b[1;33m)\u001b[0m\u001b[1;33m\u001b[0m\u001b[1;33m\u001b[0m\u001b[0m\n\u001b[0m\u001b[0;32m    416\u001b[0m         \u001b[1;32mexcept\u001b[0m \u001b[0merrors\u001b[0m\u001b[1;33m.\u001b[0m\u001b[0mUnsupportedError\u001b[0m \u001b[1;32mas\u001b[0m \u001b[0me\u001b[0m\u001b[1;33m:\u001b[0m\u001b[1;33m\u001b[0m\u001b[1;33m\u001b[0m\u001b[0m\n\u001b[0;32m    417\u001b[0m             \u001b[1;31m# Something unsupported is present in the user code, add help info\u001b[0m\u001b[1;33m\u001b[0m\u001b[1;33m\u001b[0m\u001b[1;33m\u001b[0m\u001b[0m\n",
      "\u001b[1;32m~\\anaconda3\\envs\\sedgen\\lib\\site-packages\\numba\\core\\dispatcher.py\u001b[0m in \u001b[0;36merror_rewrite\u001b[1;34m(e, issue_type)\u001b[0m\n\u001b[0;32m    356\u001b[0m                 \u001b[1;32mraise\u001b[0m \u001b[0me\u001b[0m\u001b[1;33m\u001b[0m\u001b[1;33m\u001b[0m\u001b[0m\n\u001b[0;32m    357\u001b[0m             \u001b[1;32melse\u001b[0m\u001b[1;33m:\u001b[0m\u001b[1;33m\u001b[0m\u001b[1;33m\u001b[0m\u001b[0m\n\u001b[1;32m--> 358\u001b[1;33m                 \u001b[0mreraise\u001b[0m\u001b[1;33m(\u001b[0m\u001b[0mtype\u001b[0m\u001b[1;33m(\u001b[0m\u001b[0me\u001b[0m\u001b[1;33m)\u001b[0m\u001b[1;33m,\u001b[0m \u001b[0me\u001b[0m\u001b[1;33m,\u001b[0m \u001b[1;32mNone\u001b[0m\u001b[1;33m)\u001b[0m\u001b[1;33m\u001b[0m\u001b[1;33m\u001b[0m\u001b[0m\n\u001b[0m\u001b[0;32m    359\u001b[0m \u001b[1;33m\u001b[0m\u001b[0m\n\u001b[0;32m    360\u001b[0m         \u001b[0margtypes\u001b[0m \u001b[1;33m=\u001b[0m \u001b[1;33m[\u001b[0m\u001b[1;33m]\u001b[0m\u001b[1;33m\u001b[0m\u001b[1;33m\u001b[0m\u001b[0m\n",
      "\u001b[1;32m~\\anaconda3\\envs\\sedgen\\lib\\site-packages\\numba\\core\\utils.py\u001b[0m in \u001b[0;36mreraise\u001b[1;34m(tp, value, tb)\u001b[0m\n\u001b[0;32m     78\u001b[0m         \u001b[0mvalue\u001b[0m \u001b[1;33m=\u001b[0m \u001b[0mtp\u001b[0m\u001b[1;33m(\u001b[0m\u001b[1;33m)\u001b[0m\u001b[1;33m\u001b[0m\u001b[1;33m\u001b[0m\u001b[0m\n\u001b[0;32m     79\u001b[0m     \u001b[1;32mif\u001b[0m \u001b[0mvalue\u001b[0m\u001b[1;33m.\u001b[0m\u001b[0m__traceback__\u001b[0m \u001b[1;32mis\u001b[0m \u001b[1;32mnot\u001b[0m \u001b[0mtb\u001b[0m\u001b[1;33m:\u001b[0m\u001b[1;33m\u001b[0m\u001b[1;33m\u001b[0m\u001b[0m\n\u001b[1;32m---> 80\u001b[1;33m         \u001b[1;32mraise\u001b[0m \u001b[0mvalue\u001b[0m\u001b[1;33m.\u001b[0m\u001b[0mwith_traceback\u001b[0m\u001b[1;33m(\u001b[0m\u001b[0mtb\u001b[0m\u001b[1;33m)\u001b[0m\u001b[1;33m\u001b[0m\u001b[1;33m\u001b[0m\u001b[0m\n\u001b[0m\u001b[0;32m     81\u001b[0m     \u001b[1;32mraise\u001b[0m \u001b[0mvalue\u001b[0m\u001b[1;33m\u001b[0m\u001b[1;33m\u001b[0m\u001b[0m\n\u001b[0;32m     82\u001b[0m \u001b[1;33m\u001b[0m\u001b[0m\n",
      "\u001b[1;31mTypingError\u001b[0m: Failed in nopython mode pipeline (step: nopython frontend)\n\u001b[1m\u001b[1m\u001b[1mNo implementation of function Function(<function bincount at 0x00000263B063BA60>) found for signature:\n \n >>> bincount(array(uint8, 1d, C), weights=array(float64, 1d, C), minlength=int64)\n \nThere are 2 candidate implementations:\n\u001b[1m  - Of which 2 did not match due to:\n  Overload in function 'np_bincount': File: numba\\np\\arraymath.py: Line 3445.\n    With argument(s): '(array(uint8, 1d, C), weights=array(float64, 1d, C), minlength=int64)':\u001b[0m\n\u001b[1m   Rejected as the implementation raised a specific error:\n     TypeError: np_bincount() got an unexpected keyword argument 'minlength'\u001b[0m\n  raised from C:\\Users\\quint\\anaconda3\\envs\\sedgen\\lib\\site-packages\\numba\\core\\typing\\templates.py:675\n\u001b[0m\n\u001b[0m\u001b[1mDuring: resolving callee type: Function(<function bincount at 0x00000263B063BA60>)\u001b[0m\n\u001b[0m\u001b[1mDuring: typing of call at d:\\unif\\masterthesis\\jupyter\\sedgen\\src\\sedgen\\general.py (139)\n\u001b[0m\n\u001b[1m\nFile \"..\\..\\sedgen\\src\\sedgen\\general.py\", line 139:\u001b[0m\n\u001b[1mdef weighted_bin_count(a, w, ml=None):\n    <source elided>\n    \"\"\"Returns weighted counts per bin\"\"\"\n\u001b[1m    return np.bincount(a, weights=w, minlength=ml)\n\u001b[0m    \u001b[1m^\u001b[0m\u001b[0m\n"
     ]
    }
   ],
   "source": [
    "SedGen_CA_NS_chem = SedGen_CA_NS.weathering(operations = [\"chem_mcg\", \"chem_pcg\"], timesteps = 100, inplace = False)"
   ]
  },
  {
   "cell_type": "code",
   "execution_count": 19,
   "metadata": {},
   "outputs": [
    {
     "name": "stdout",
     "output_type": "stream",
     "text": [
      "2/100\r"
     ]
    },
    {
     "ename": "TypingError",
     "evalue": "Failed in nopython mode pipeline (step: nopython frontend)\n\u001b[1m\u001b[1m\u001b[1mNo implementation of function Function(<function bincount at 0x00000263B063BA60>) found for signature:\n \n >>> bincount(array(uint8, 1d, C), weights=array(float64, 1d, C), minlength=int64)\n \nThere are 2 candidate implementations:\n\u001b[1m  - Of which 2 did not match due to:\n  Overload in function 'np_bincount': File: numba\\np\\arraymath.py: Line 3445.\n    With argument(s): '(array(uint8, 1d, C), weights=array(float64, 1d, C), minlength=int64)':\u001b[0m\n\u001b[1m   Rejected as the implementation raised a specific error:\n     TypeError: np_bincount() got an unexpected keyword argument 'minlength'\u001b[0m\n  raised from C:\\Users\\quint\\anaconda3\\envs\\sedgen\\lib\\site-packages\\numba\\core\\typing\\templates.py:675\n\u001b[0m\n\u001b[0m\u001b[1mDuring: resolving callee type: Function(<function bincount at 0x00000263B063BA60>)\u001b[0m\n\u001b[0m\u001b[1mDuring: typing of call at d:\\unif\\masterthesis\\jupyter\\sedgen\\src\\sedgen\\general.py (139)\n\u001b[0m\n\u001b[1m\nFile \"..\\..\\sedgen\\src\\sedgen\\general.py\", line 139:\u001b[0m\n\u001b[1mdef weighted_bin_count(a, w, ml=None):\n    <source elided>\n    \"\"\"Returns weighted counts per bin\"\"\"\n\u001b[1m    return np.bincount(a, weights=w, minlength=ml)\n\u001b[0m    \u001b[1m^\u001b[0m\u001b[0m\n",
     "output_type": "error",
     "traceback": [
      "\u001b[1;31m---------------------------------------------------------------------------\u001b[0m",
      "\u001b[1;31mTypingError\u001b[0m                               Traceback (most recent call last)",
      "\u001b[1;32m<ipython-input-19-0505a8dc9ab5>\u001b[0m in \u001b[0;36m<module>\u001b[1;34m\u001b[0m\n\u001b[1;32m----> 1\u001b[1;33m \u001b[0mSedGen_CA_NS_both\u001b[0m \u001b[1;33m=\u001b[0m \u001b[0mSedGen_CA_NS\u001b[0m\u001b[1;33m.\u001b[0m\u001b[0mweathering\u001b[0m\u001b[1;33m(\u001b[0m\u001b[0moperations\u001b[0m \u001b[1;33m=\u001b[0m \u001b[1;33m[\u001b[0m\u001b[1;34m\"intra_cb\"\u001b[0m\u001b[1;33m,\u001b[0m \u001b[1;34m\"inter_cb\"\u001b[0m\u001b[1;33m,\u001b[0m \u001b[1;34m\"chem_mcg\"\u001b[0m\u001b[1;33m,\u001b[0m \u001b[1;34m\"chem_pcg\"\u001b[0m\u001b[1;33m]\u001b[0m\u001b[1;33m,\u001b[0m \u001b[0mtimesteps\u001b[0m \u001b[1;33m=\u001b[0m \u001b[1;36m100\u001b[0m\u001b[1;33m,\u001b[0m \u001b[0minplace\u001b[0m \u001b[1;33m=\u001b[0m \u001b[1;32mFalse\u001b[0m\u001b[1;33m)\u001b[0m\u001b[1;33m\u001b[0m\u001b[1;33m\u001b[0m\u001b[0m\n\u001b[0m",
      "\u001b[1;32md:\\unif\\masterthesis\\jupyter\\sedgen\\src\\sedgen\\initialization.py\u001b[0m in \u001b[0;36mweathering\u001b[1;34m(self, operations, display_mass_balance, display_mcg_sums, timesteps, timed, inplace)\u001b[0m\n\u001b[0;32m    663\u001b[0m                         \u001b[0mself\u001b[0m\u001b[1;33m.\u001b[0m\u001b[0mpcg_chem_residue\u001b[0m\u001b[1;33m,\u001b[0m\u001b[0;31m \u001b[0m\u001b[0;31m\\\u001b[0m\u001b[1;33m\u001b[0m\u001b[1;33m\u001b[0m\u001b[0m\n\u001b[0;32m    664\u001b[0m                         \u001b[0mself\u001b[0m\u001b[1;33m.\u001b[0m\u001b[0minterface_counts_matrix\u001b[0m \u001b[1;33m=\u001b[0m\u001b[0;31m \u001b[0m\u001b[0;31m\\\u001b[0m\u001b[1;33m\u001b[0m\u001b[1;33m\u001b[0m\u001b[0m\n\u001b[1;32m--> 665\u001b[1;33m                         \u001b[0mself\u001b[0m\u001b[1;33m.\u001b[0m\u001b[0mchemical_weathering_pcg\u001b[0m\u001b[1;33m(\u001b[0m\u001b[1;33m)\u001b[0m\u001b[1;33m\u001b[0m\u001b[1;33m\u001b[0m\u001b[0m\n\u001b[0m\u001b[0;32m    666\u001b[0m                     \u001b[0mself\u001b[0m\u001b[1;33m.\u001b[0m\u001b[0mpcg_chem_residue_additions\u001b[0m\u001b[1;33m[\u001b[0m\u001b[0mstep\u001b[0m\u001b[1;33m]\u001b[0m \u001b[1;33m=\u001b[0m\u001b[0;31m \u001b[0m\u001b[0;31m\\\u001b[0m\u001b[1;33m\u001b[0m\u001b[1;33m\u001b[0m\u001b[0m\n\u001b[0;32m    667\u001b[0m                         \u001b[0mself\u001b[0m\u001b[1;33m.\u001b[0m\u001b[0mpcg_chem_residue\u001b[0m\u001b[1;33m\u001b[0m\u001b[1;33m\u001b[0m\u001b[0m\n",
      "\u001b[1;32md:\\unif\\masterthesis\\jupyter\\sedgen\\src\\sedgen\\initialization.py\u001b[0m in \u001b[0;36mchemical_weathering_pcg\u001b[1;34m(self, shift)\u001b[0m\n\u001b[0;32m   1192\u001b[0m \u001b[1;33m\u001b[0m\u001b[0m\n\u001b[0;32m   1193\u001b[0m         \u001b[0mresidue_1\u001b[0m \u001b[1;33m=\u001b[0m\u001b[0;31m \u001b[0m\u001b[0;31m\\\u001b[0m\u001b[1;33m\u001b[0m\u001b[1;33m\u001b[0m\u001b[0m\n\u001b[1;32m-> 1194\u001b[1;33m             gen.weighted_bin_count(pcg_dissolved,\n\u001b[0m\u001b[0;32m   1195\u001b[0m                                    \u001b[0mvolumes_old_selected\u001b[0m\u001b[1;33m,\u001b[0m\u001b[1;33m\u001b[0m\u001b[1;33m\u001b[0m\u001b[0m\n\u001b[0;32m   1196\u001b[0m                                    self.n_minerals)\n",
      "\u001b[1;32m~\\anaconda3\\envs\\sedgen\\lib\\site-packages\\numba\\core\\dispatcher.py\u001b[0m in \u001b[0;36m_compile_for_args\u001b[1;34m(self, *args, **kws)\u001b[0m\n\u001b[0;32m    413\u001b[0m                 \u001b[0me\u001b[0m\u001b[1;33m.\u001b[0m\u001b[0mpatch_message\u001b[0m\u001b[1;33m(\u001b[0m\u001b[0mmsg\u001b[0m\u001b[1;33m)\u001b[0m\u001b[1;33m\u001b[0m\u001b[1;33m\u001b[0m\u001b[0m\n\u001b[0;32m    414\u001b[0m \u001b[1;33m\u001b[0m\u001b[0m\n\u001b[1;32m--> 415\u001b[1;33m             \u001b[0merror_rewrite\u001b[0m\u001b[1;33m(\u001b[0m\u001b[0me\u001b[0m\u001b[1;33m,\u001b[0m \u001b[1;34m'typing'\u001b[0m\u001b[1;33m)\u001b[0m\u001b[1;33m\u001b[0m\u001b[1;33m\u001b[0m\u001b[0m\n\u001b[0m\u001b[0;32m    416\u001b[0m         \u001b[1;32mexcept\u001b[0m \u001b[0merrors\u001b[0m\u001b[1;33m.\u001b[0m\u001b[0mUnsupportedError\u001b[0m \u001b[1;32mas\u001b[0m \u001b[0me\u001b[0m\u001b[1;33m:\u001b[0m\u001b[1;33m\u001b[0m\u001b[1;33m\u001b[0m\u001b[0m\n\u001b[0;32m    417\u001b[0m             \u001b[1;31m# Something unsupported is present in the user code, add help info\u001b[0m\u001b[1;33m\u001b[0m\u001b[1;33m\u001b[0m\u001b[1;33m\u001b[0m\u001b[0m\n",
      "\u001b[1;32m~\\anaconda3\\envs\\sedgen\\lib\\site-packages\\numba\\core\\dispatcher.py\u001b[0m in \u001b[0;36merror_rewrite\u001b[1;34m(e, issue_type)\u001b[0m\n\u001b[0;32m    356\u001b[0m                 \u001b[1;32mraise\u001b[0m \u001b[0me\u001b[0m\u001b[1;33m\u001b[0m\u001b[1;33m\u001b[0m\u001b[0m\n\u001b[0;32m    357\u001b[0m             \u001b[1;32melse\u001b[0m\u001b[1;33m:\u001b[0m\u001b[1;33m\u001b[0m\u001b[1;33m\u001b[0m\u001b[0m\n\u001b[1;32m--> 358\u001b[1;33m                 \u001b[0mreraise\u001b[0m\u001b[1;33m(\u001b[0m\u001b[0mtype\u001b[0m\u001b[1;33m(\u001b[0m\u001b[0me\u001b[0m\u001b[1;33m)\u001b[0m\u001b[1;33m,\u001b[0m \u001b[0me\u001b[0m\u001b[1;33m,\u001b[0m \u001b[1;32mNone\u001b[0m\u001b[1;33m)\u001b[0m\u001b[1;33m\u001b[0m\u001b[1;33m\u001b[0m\u001b[0m\n\u001b[0m\u001b[0;32m    359\u001b[0m \u001b[1;33m\u001b[0m\u001b[0m\n\u001b[0;32m    360\u001b[0m         \u001b[0margtypes\u001b[0m \u001b[1;33m=\u001b[0m \u001b[1;33m[\u001b[0m\u001b[1;33m]\u001b[0m\u001b[1;33m\u001b[0m\u001b[1;33m\u001b[0m\u001b[0m\n",
      "\u001b[1;32m~\\anaconda3\\envs\\sedgen\\lib\\site-packages\\numba\\core\\utils.py\u001b[0m in \u001b[0;36mreraise\u001b[1;34m(tp, value, tb)\u001b[0m\n\u001b[0;32m     78\u001b[0m         \u001b[0mvalue\u001b[0m \u001b[1;33m=\u001b[0m \u001b[0mtp\u001b[0m\u001b[1;33m(\u001b[0m\u001b[1;33m)\u001b[0m\u001b[1;33m\u001b[0m\u001b[1;33m\u001b[0m\u001b[0m\n\u001b[0;32m     79\u001b[0m     \u001b[1;32mif\u001b[0m \u001b[0mvalue\u001b[0m\u001b[1;33m.\u001b[0m\u001b[0m__traceback__\u001b[0m \u001b[1;32mis\u001b[0m \u001b[1;32mnot\u001b[0m \u001b[0mtb\u001b[0m\u001b[1;33m:\u001b[0m\u001b[1;33m\u001b[0m\u001b[1;33m\u001b[0m\u001b[0m\n\u001b[1;32m---> 80\u001b[1;33m         \u001b[1;32mraise\u001b[0m \u001b[0mvalue\u001b[0m\u001b[1;33m.\u001b[0m\u001b[0mwith_traceback\u001b[0m\u001b[1;33m(\u001b[0m\u001b[0mtb\u001b[0m\u001b[1;33m)\u001b[0m\u001b[1;33m\u001b[0m\u001b[1;33m\u001b[0m\u001b[0m\n\u001b[0m\u001b[0;32m     81\u001b[0m     \u001b[1;32mraise\u001b[0m \u001b[0mvalue\u001b[0m\u001b[1;33m\u001b[0m\u001b[1;33m\u001b[0m\u001b[0m\n\u001b[0;32m     82\u001b[0m \u001b[1;33m\u001b[0m\u001b[0m\n",
      "\u001b[1;31mTypingError\u001b[0m: Failed in nopython mode pipeline (step: nopython frontend)\n\u001b[1m\u001b[1m\u001b[1mNo implementation of function Function(<function bincount at 0x00000263B063BA60>) found for signature:\n \n >>> bincount(array(uint8, 1d, C), weights=array(float64, 1d, C), minlength=int64)\n \nThere are 2 candidate implementations:\n\u001b[1m  - Of which 2 did not match due to:\n  Overload in function 'np_bincount': File: numba\\np\\arraymath.py: Line 3445.\n    With argument(s): '(array(uint8, 1d, C), weights=array(float64, 1d, C), minlength=int64)':\u001b[0m\n\u001b[1m   Rejected as the implementation raised a specific error:\n     TypeError: np_bincount() got an unexpected keyword argument 'minlength'\u001b[0m\n  raised from C:\\Users\\quint\\anaconda3\\envs\\sedgen\\lib\\site-packages\\numba\\core\\typing\\templates.py:675\n\u001b[0m\n\u001b[0m\u001b[1mDuring: resolving callee type: Function(<function bincount at 0x00000263B063BA60>)\u001b[0m\n\u001b[0m\u001b[1mDuring: typing of call at d:\\unif\\masterthesis\\jupyter\\sedgen\\src\\sedgen\\general.py (139)\n\u001b[0m\n\u001b[1m\nFile \"..\\..\\sedgen\\src\\sedgen\\general.py\", line 139:\u001b[0m\n\u001b[1mdef weighted_bin_count(a, w, ml=None):\n    <source elided>\n    \"\"\"Returns weighted counts per bin\"\"\"\n\u001b[1m    return np.bincount(a, weights=w, minlength=ml)\n\u001b[0m    \u001b[1m^\u001b[0m\u001b[0m\n"
     ]
    }
   ],
   "source": [
    "SedGen_CA_NS_both = SedGen_CA_NS.weathering(operations = [\"intra_cb\", \"inter_cb\", \"chem_mcg\", \"chem_pcg\"], timesteps = 100, inplace = False)"
   ]
  },
  {
   "cell_type": "code",
   "execution_count": null,
   "metadata": {},
   "outputs": [],
   "source": []
  }
 ],
 "metadata": {
  "kernelspec": {
   "display_name": "Python [conda env:sedgen]",
   "language": "python",
   "name": "conda-env-sedgen-py"
  },
  "language_info": {
   "codemirror_mode": {
    "name": "ipython",
    "version": 3
   },
   "file_extension": ".py",
   "mimetype": "text/x-python",
   "name": "python",
   "nbconvert_exporter": "python",
   "pygments_lexer": "ipython3",
   "version": "3.8.5"
  }
 },
 "nbformat": 4,
 "nbformat_minor": 4
}
