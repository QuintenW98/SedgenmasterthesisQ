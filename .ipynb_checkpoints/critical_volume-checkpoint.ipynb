{
 "cells": [
  {
   "cell_type": "raw",
   "metadata": {},
   "source": [
    "to get the critical threshold we should run the model for different parent rock volumes, and compare the mineralogical composition with the dataset. The smallest parent rock volume where the difference is small enough is the critical parent rock volume. \n"
   ]
  },
  {
   "cell_type": "code",
   "execution_count": 1,
   "metadata": {},
   "outputs": [],
   "source": [
    "import numpy as np\n",
    "import numba as nb\n",
    "from numba.typed import List\n",
    "import pandas as pd\n",
    "import itertools\n",
    "from operator import itemgetter\n",
    "import gc\n",
    "\n",
    "from scipy.stats import norm, lognorm, truncnorm\n",
    "import matplotlib.pyplot as plt\n",
    "import seaborn as sns\n",
    "\n",
    "from collections import Counter, deque\n",
    "from sys import getsizeof"
   ]
  },
  {
   "cell_type": "code",
   "execution_count": 2,
   "metadata": {},
   "outputs": [
    {
     "ename": "ModuleNotFoundError",
     "evalue": "No module named 'fast_histogram'",
     "output_type": "error",
     "traceback": [
      "\u001b[1;31m---------------------------------------------------------------------------\u001b[0m",
      "\u001b[1;31mModuleNotFoundError\u001b[0m                       Traceback (most recent call last)",
      "\u001b[1;32m<ipython-input-2-6b89b352f41a>\u001b[0m in \u001b[0;36m<module>\u001b[1;34m\u001b[0m\n\u001b[1;32m----> 1\u001b[1;33m \u001b[1;32mfrom\u001b[0m \u001b[0msedgen\u001b[0m\u001b[1;33m.\u001b[0m\u001b[0minitialization\u001b[0m \u001b[1;32mimport\u001b[0m \u001b[0mSedGen\u001b[0m\u001b[1;33m\u001b[0m\u001b[1;33m\u001b[0m\u001b[0m\n\u001b[0m\u001b[0;32m      2\u001b[0m \u001b[1;32mfrom\u001b[0m \u001b[0msedgen\u001b[0m \u001b[1;32mimport\u001b[0m \u001b[0minitialization\u001b[0m \u001b[1;32mas\u001b[0m \u001b[0mini\u001b[0m\u001b[1;33m\u001b[0m\u001b[1;33m\u001b[0m\u001b[0m\n\u001b[0;32m      3\u001b[0m \u001b[1;32mfrom\u001b[0m \u001b[0msedgen\u001b[0m \u001b[1;32mimport\u001b[0m \u001b[0mgeneral\u001b[0m \u001b[1;32mas\u001b[0m \u001b[0mgen\u001b[0m\u001b[1;33m\u001b[0m\u001b[1;33m\u001b[0m\u001b[0m\n\u001b[0;32m      4\u001b[0m \u001b[1;32mfrom\u001b[0m \u001b[0msedgen\u001b[0m \u001b[1;32mimport\u001b[0m \u001b[0mpreprocessing\u001b[0m\u001b[1;33m\u001b[0m\u001b[1;33m\u001b[0m\u001b[0m\n",
      "\u001b[1;32md:\\unif\\masterthesis\\jupyter\\sedgen\\src\\sedgen\\initialization.py\u001b[0m in \u001b[0;36m<module>\u001b[1;34m\u001b[0m\n\u001b[0;32m      8\u001b[0m \u001b[1;32mimport\u001b[0m \u001b[0mcopy\u001b[0m\u001b[1;33m\u001b[0m\u001b[1;33m\u001b[0m\u001b[0m\n\u001b[0;32m      9\u001b[0m \u001b[1;33m\u001b[0m\u001b[0m\n\u001b[1;32m---> 10\u001b[1;33m \u001b[1;32mfrom\u001b[0m \u001b[0msedgen\u001b[0m \u001b[1;32mimport\u001b[0m \u001b[0mgeneral\u001b[0m \u001b[1;32mas\u001b[0m \u001b[0mgen\u001b[0m\u001b[1;33m\u001b[0m\u001b[1;33m\u001b[0m\u001b[0m\n\u001b[0m\u001b[0;32m     11\u001b[0m \u001b[1;32mfrom\u001b[0m \u001b[0msedgen\u001b[0m\u001b[1;33m.\u001b[0m\u001b[0mdiscretization\u001b[0m \u001b[1;32mimport\u001b[0m \u001b[0mBins\u001b[0m\u001b[1;33m,\u001b[0m \u001b[0mBinsMatricesMixin\u001b[0m\u001b[1;33m,\u001b[0m \u001b[0mMcgBreakPatternMixin\u001b[0m\u001b[1;33m\u001b[0m\u001b[1;33m\u001b[0m\u001b[0m\n\u001b[0;32m     12\u001b[0m \u001b[1;32mfrom\u001b[0m \u001b[0msedgen\u001b[0m\u001b[1;33m.\u001b[0m\u001b[0mevolution\u001b[0m \u001b[1;32mimport\u001b[0m \u001b[0mModelEvolutionMixin\u001b[0m\u001b[1;33m\u001b[0m\u001b[1;33m\u001b[0m\u001b[0m\n",
      "\u001b[1;32md:\\unif\\masterthesis\\jupyter\\sedgen\\src\\sedgen\\general.py\u001b[0m in \u001b[0;36m<module>\u001b[1;34m\u001b[0m\n\u001b[0;32m      1\u001b[0m \u001b[1;32mimport\u001b[0m \u001b[0mnumpy\u001b[0m \u001b[1;32mas\u001b[0m \u001b[0mnp\u001b[0m\u001b[1;33m\u001b[0m\u001b[1;33m\u001b[0m\u001b[0m\n\u001b[0;32m      2\u001b[0m \u001b[1;32mimport\u001b[0m \u001b[0mnumba\u001b[0m \u001b[1;32mas\u001b[0m \u001b[0mnb\u001b[0m\u001b[1;33m\u001b[0m\u001b[1;33m\u001b[0m\u001b[0m\n\u001b[1;32m----> 3\u001b[1;33m \u001b[1;32mfrom\u001b[0m \u001b[0mfast_histogram\u001b[0m \u001b[1;32mimport\u001b[0m \u001b[0mhistogram1d\u001b[0m\u001b[1;33m,\u001b[0m \u001b[0mhistogram2d\u001b[0m\u001b[1;33m\u001b[0m\u001b[1;33m\u001b[0m\u001b[0m\n\u001b[0m\u001b[0;32m      4\u001b[0m \u001b[1;33m\u001b[0m\u001b[0m\n\u001b[0;32m      5\u001b[0m \u001b[1;33m\u001b[0m\u001b[0m\n",
      "\u001b[1;31mModuleNotFoundError\u001b[0m: No module named 'fast_histogram'"
     ]
    }
   ],
   "source": [
    "from sedgen.initialization import SedGen\n",
    "from sedgen import initialization as ini\n",
    "from sedgen import general as gen\n",
    "from sedgen import preprocessing"
   ]
  },
  {
   "cell_type": "code",
   "execution_count": null,
   "metadata": {},
   "outputs": [],
   "source": [
    "par_rock_volumes = [1e9, 1e8, 1e7, 1e6, 1e5, 1e4, 1e3, 1e2, 1e1]\n",
    "minerals = [\"Q\", \"P\", \"K\", \"B\", \"O\", \"A\"]\n"
   ]
  },
  {
   "cell_type": "code",
   "execution_count": null,
   "metadata": {},
   "outputs": [],
   "source": [
    "modal_mineralogy = [0.30591989, 0.38159713, 0.26209888, 0.0188256 , 0.00799247, 0.02356603]"
   ]
  },
  {
   "cell_type": "code",
   "execution_count": null,
   "metadata": {},
   "outputs": [],
   "source": [
    "csds_CA_NS_means = np.array([0.309, 0.330, 0.244, 0.223, 0.120, 0.122])\n",
    "csds_CA_NS_stds = np.array([0.823, 0.683, 0.817, 0.819, 0.554, 0.782])"
   ]
  },
  {
   "cell_type": "code",
   "execution_count": null,
   "metadata": {},
   "outputs": [],
   "source": [
    "sedgen_CA_NS_list = []\n",
    "for i in range len(par_rock_volumes):\n",
    "    sedgen_CA_NS = SedGen (minerals, par_rock_volumes[i], modal_mineralogy, csds_CA_NS_means, csds_CA_NS_stds, learning rate=1000, timed = False)\n",
    "    sedgen_CA_NS_list.append(sedgen_CA_NS)\n",
    "\n",
    "#now the model should have ran 9 times for different parent rock volumes, and the variable 'sedgen_CA_NS_list' should contain the output\n",
    "#"
   ]
  }
 ],
 "metadata": {
  "kernelspec": {
   "display_name": "Python 3",
   "language": "python",
   "name": "python3"
  },
  "language_info": {
   "codemirror_mode": {
    "name": "ipython",
    "version": 3
   },
   "file_extension": ".py",
   "mimetype": "text/x-python",
   "name": "python",
   "nbconvert_exporter": "python",
   "pygments_lexer": "ipython3",
   "version": "3.8.3"
  }
 },
 "nbformat": 4,
 "nbformat_minor": 4
}
