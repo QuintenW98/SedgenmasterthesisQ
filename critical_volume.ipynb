{
 "cells": [
  {
   "cell_type": "raw",
   "metadata": {},
   "source": [
    "to get the critical threshold we should run the model for different parent rock volumes, and compare the mineralogical composition with the dataset. The smallest parent rock volume where the difference is small enough is the critical parent rock volume. \n"
   ]
  },
  {
   "cell_type": "code",
   "execution_count": 1,
   "metadata": {},
   "outputs": [],
   "source": [
    "import numpy as np\n",
    "import numba as nb\n",
    "from numba.typed import List\n",
    "import pandas as pd\n",
    "import itertools\n",
    "from operator import itemgetter\n",
    "import gc\n",
    "\n",
    "from scipy.stats import norm, lognorm, truncnorm\n",
    "import matplotlib.pyplot as plt\n",
    "import seaborn as sns\n",
    "\n",
    "from collections import Counter, deque\n",
    "from sys import getsizeof"
   ]
  },
  {
   "cell_type": "code",
   "execution_count": 2,
   "metadata": {},
   "outputs": [],
   "source": [
    "from sedgen.initialization import SedGen\n",
    "from sedgen import initialization as ini\n",
    "from sedgen import general as gen\n",
    "from sedgen import preprocessing"
   ]
  },
  {
   "cell_type": "code",
   "execution_count": 15,
   "metadata": {},
   "outputs": [],
   "source": [
    "from IPython.core.interactiveshell import InteractiveShell\n",
    "InteractiveShell.ast_node_interactivity = \"all\""
   ]
  },
  {
   "cell_type": "code",
   "execution_count": 3,
   "metadata": {},
   "outputs": [],
   "source": [
    "# Load jupyter extension to reload packages before executing user code.\n",
    "# https://ipython.readthedocs.io/en/stable/config/extensions/autoreload.html\n",
    "%load_ext autoreload\n",
    "# Reload all packages (except those excluded by %aimport) every time \n",
    "# before executing the Python code typed.\n",
    "%autoreload 2"
   ]
  },
  {
   "cell_type": "code",
   "execution_count": 4,
   "metadata": {},
   "outputs": [],
   "source": [
    "par_rock_volumes = [1e9, 1e8, 1e7, 1e6, 1e5, 1e4, 1e3, 1e2, 1e1]\n",
    "minerals = [\"Q\", \"P\", \"K\", \"B\", \"O\", \"A\"]\n",
    "par_rock_volume = 1000000\n"
   ]
  },
  {
   "cell_type": "code",
   "execution_count": 5,
   "metadata": {},
   "outputs": [],
   "source": [
    "modal_mineralogy = np.array([0.30591989, 0.38159713, 0.26209888, 0.0188256 , 0.00799247, 0.02356603])"
   ]
  },
  {
   "cell_type": "code",
   "execution_count": 6,
   "metadata": {},
   "outputs": [],
   "source": [
    "csds_CA_NS_means = np.array([0.309, 0.330, 0.244, 0.223, 0.120, 0.122])\n",
    "csds_CA_NS_stds = np.array([0.823, 0.683, 0.817, 0.819, 0.554, 0.782])"
   ]
  },
  {
   "cell_type": "code",
   "execution_count": 7,
   "metadata": {},
   "outputs": [
    {
     "name": "stdout",
     "output_type": "stream",
     "text": [
      "---SedGen model initialization started---\n",
      "\n",
      "Initializing modal mineralogy...\n",
      "Initializing csds...\n",
      "Initializing bins...\n",
      "Simulating mineral occurences... |Q|P|K|B|O|A| Done in 0.9646 seconds\n",
      "Initializing interfaces... |Q|P|K|B|O|A| Done in 1.3544 seconds\n",
      "Counting interfaces...  Done in 0.0001 seconds\n",
      "Correcting interface arrays for consistency...\n",
      "too much Q 1\n",
      "all good P 0\n",
      "all good K 0\n",
      "too much B 1\n",
      "too few O -1\n",
      "too few A -1\n",
      "Initializing crystal size array... |Q|P|K|B|O|A| Done in 0.0028 seconds\n",
      "Initializing inter-crystal breakage probability arrays...\n",
      "Initializing model evolution arrays...\n",
      "Initializing discretization for model's weathering...\n",
      "\n",
      "---SedGen model initialization finished succesfully---\n"
     ]
    }
   ],
   "source": [
    "sedgentest = SedGen(minerals, par_rock_volume, modal_mineralogy, csds_CA_NS_means, csds_CA_NS_stds, learning_rate = 100000, timed = True)"
   ]
  },
  {
   "cell_type": "code",
   "execution_count": 8,
   "metadata": {},
   "outputs": [
    {
     "data": {
      "text/plain": [
       "array([306018.91791864, 384310.67218782, 262246.36236315,  29009.83767258,\n",
       "        12319.11069192,  23599.20754296])"
      ]
     },
     "execution_count": 8,
     "metadata": {},
     "output_type": "execute_result"
    }
   ],
   "source": [
    "sedgentest.simulated_volume"
   ]
  },
  {
   "cell_type": "code",
   "execution_count": 9,
   "metadata": {},
   "outputs": [
    {
     "name": "stdout",
     "output_type": "stream",
     "text": [
      "1000000000.0\n",
      "---SedGen model initialization started---\n",
      "\n",
      "Initializing modal mineralogy...\n",
      "Initializing csds...\n",
      "Initializing bins...\n",
      "Simulating mineral occurences... |Q|P|K|B|O|A|\n",
      "Initializing interfaces... |Q|P|K|B|O|A|\n",
      "Counting interfaces...\n",
      "Correcting interface arrays for consistency...\n",
      "too much Q 4\n",
      "too few P -2\n",
      "too few K -1\n",
      "all good B 0\n",
      "all good O 0\n",
      "too few A -1\n",
      "Initializing crystal size array... |Q|P|K|B|O|A|\n",
      "Initializing inter-crystal breakage probability arrays...\n",
      "Initializing model evolution arrays...\n",
      "Initializing discretization for model's weathering...\n",
      "\n",
      "---SedGen model initialization finished succesfully---\n",
      "100000000.0\n",
      "---SedGen model initialization started---\n",
      "\n",
      "Initializing modal mineralogy...\n",
      "Initializing csds...\n",
      "Initializing bins...\n",
      "Simulating mineral occurences... |Q|P|K|B|O|A|\n",
      "Initializing interfaces... |Q|P|K|B|O|A|\n",
      "Counting interfaces...\n",
      "Correcting interface arrays for consistency...\n",
      "all good Q 0\n",
      "all good P 0\n",
      "all good K 0\n",
      "too few B -1\n",
      "all good O 0\n",
      "too much A 1\n",
      "Initializing crystal size array... |Q|P|K|B|O|A|\n",
      "Initializing inter-crystal breakage probability arrays...\n",
      "Initializing model evolution arrays...\n",
      "Initializing discretization for model's weathering...\n",
      "\n",
      "---SedGen model initialization finished succesfully---\n",
      "10000000.0\n",
      "---SedGen model initialization started---\n",
      "\n",
      "Initializing modal mineralogy...\n",
      "Initializing csds...\n",
      "Initializing bins...\n",
      "Simulating mineral occurences... |Q|P|K|B|O|A|\n",
      "Initializing interfaces... |Q|P|K|B|O|A|\n",
      "Counting interfaces...\n",
      "Correcting interface arrays for consistency...\n",
      "too much Q 2\n",
      "too few P -1\n",
      "too few K -1\n",
      "too few B -1\n",
      "all good O 0\n",
      "too much A 1\n",
      "Initializing crystal size array... |Q|P|K|B|O|A|\n",
      "Initializing inter-crystal breakage probability arrays...\n",
      "Initializing model evolution arrays...\n",
      "Initializing discretization for model's weathering...\n",
      "\n",
      "---SedGen model initialization finished succesfully---\n",
      "1000000.0\n",
      "---SedGen model initialization started---\n",
      "\n",
      "Initializing modal mineralogy...\n",
      "Initializing csds...\n",
      "Initializing bins...\n",
      "Simulating mineral occurences... |Q|P|K|B|O|A|\n",
      "Initializing interfaces... |Q|P|K|B|O|A|\n",
      "Counting interfaces...\n",
      "Correcting interface arrays for consistency...\n",
      "too few Q -1\n",
      "all good P 0\n",
      "too few K -1\n",
      "too much B 1\n",
      "too much O 1\n",
      "all good A 0\n",
      "Initializing crystal size array... |Q|P|K|B|O|A|\n",
      "Initializing inter-crystal breakage probability arrays...\n",
      "Initializing model evolution arrays...\n",
      "Initializing discretization for model's weathering...\n",
      "\n",
      "---SedGen model initialization finished succesfully---\n",
      "100000.0\n",
      "---SedGen model initialization started---\n",
      "\n",
      "Initializing modal mineralogy...\n",
      "Initializing csds...\n",
      "Initializing bins...\n",
      "Simulating mineral occurences... |Q|P|K|B|O|A|\n",
      "Initializing interfaces... |Q|P|K|B|O|A|\n",
      "Counting interfaces...\n",
      "Correcting interface arrays for consistency...\n",
      "too much Q 20\n",
      "too few P -8\n",
      "too few K -2\n",
      "too few B -1\n",
      "too few O -4\n",
      "too few A -5\n",
      "Initializing crystal size array... |Q|P|K|B|O|A|\n",
      "Initializing inter-crystal breakage probability arrays...\n",
      "Initializing model evolution arrays...\n",
      "Initializing discretization for model's weathering...\n",
      "\n",
      "---SedGen model initialization finished succesfully---\n",
      "10000.0\n",
      "---SedGen model initialization started---\n",
      "\n",
      "Initializing modal mineralogy...\n",
      "Initializing csds...\n",
      "Initializing bins...\n",
      "Simulating mineral occurences... |Q|P|K|B|O|A|\n",
      "Initializing interfaces... |Q|P|K|B|O|A|"
     ]
    },
    {
     "ename": "IndexError",
     "evalue": "tuple index out of range",
     "output_type": "error",
     "traceback": [
      "\u001b[1;31m---------------------------------------------------------------------------\u001b[0m",
      "\u001b[1;31mIndexError\u001b[0m                                Traceback (most recent call last)",
      "\u001b[1;32m<ipython-input-9-e9ba7faa98de>\u001b[0m in \u001b[0;36m<module>\u001b[1;34m\u001b[0m\n\u001b[0;32m      2\u001b[0m \u001b[1;32mfor\u001b[0m \u001b[0mi\u001b[0m \u001b[1;32min\u001b[0m \u001b[0mrange\u001b[0m \u001b[1;33m(\u001b[0m\u001b[0mlen\u001b[0m\u001b[1;33m(\u001b[0m\u001b[0mpar_rock_volumes\u001b[0m\u001b[1;33m)\u001b[0m\u001b[1;33m)\u001b[0m\u001b[1;33m:\u001b[0m\u001b[1;33m\u001b[0m\u001b[1;33m\u001b[0m\u001b[0m\n\u001b[0;32m      3\u001b[0m     \u001b[0mprint\u001b[0m\u001b[1;33m(\u001b[0m\u001b[0mpar_rock_volumes\u001b[0m\u001b[1;33m[\u001b[0m\u001b[0mi\u001b[0m\u001b[1;33m]\u001b[0m\u001b[1;33m)\u001b[0m\u001b[1;33m\u001b[0m\u001b[1;33m\u001b[0m\u001b[0m\n\u001b[1;32m----> 4\u001b[1;33m     \u001b[0msedgen_CA_NS\u001b[0m \u001b[1;33m=\u001b[0m \u001b[0mSedGen\u001b[0m \u001b[1;33m(\u001b[0m\u001b[0mminerals\u001b[0m\u001b[1;33m,\u001b[0m \u001b[0mpar_rock_volumes\u001b[0m\u001b[1;33m[\u001b[0m\u001b[0mi\u001b[0m\u001b[1;33m]\u001b[0m\u001b[1;33m,\u001b[0m \u001b[0mmodal_mineralogy\u001b[0m\u001b[1;33m,\u001b[0m \u001b[0mcsds_CA_NS_means\u001b[0m\u001b[1;33m,\u001b[0m \u001b[0mcsds_CA_NS_stds\u001b[0m\u001b[1;33m,\u001b[0m \u001b[0mlearning_rate\u001b[0m\u001b[1;33m=\u001b[0m\u001b[1;36m10000\u001b[0m\u001b[1;33m,\u001b[0m \u001b[0mtimed\u001b[0m \u001b[1;33m=\u001b[0m \u001b[1;32mFalse\u001b[0m\u001b[1;33m)\u001b[0m\u001b[1;33m\u001b[0m\u001b[1;33m\u001b[0m\u001b[0m\n\u001b[0m\u001b[0;32m      5\u001b[0m     \u001b[0msedgen_CA_NS_list\u001b[0m\u001b[1;33m.\u001b[0m\u001b[0mappend\u001b[0m\u001b[1;33m(\u001b[0m\u001b[0msedgen_CA_NS\u001b[0m\u001b[1;33m)\u001b[0m\u001b[1;33m\u001b[0m\u001b[1;33m\u001b[0m\u001b[0m\n\u001b[0;32m      6\u001b[0m \u001b[1;33m\u001b[0m\u001b[0m\n",
      "\u001b[1;32md:\\unif\\masterthesis\\jupyter\\sedgen\\src\\sedgen\\initialization.py\u001b[0m in \u001b[0;36m__init__\u001b[1;34m(self, minerals, parent_rock_volume, modal_mineralogy, csd_means, csd_stds, interfacial_composition, learning_rate, timed, n_timesteps, n_standard_cases, intra_cb_p, intra_cb_thresholds, chem_weath_rates, enable_interface_location_prob, enable_multi_pcg_breakage, enable_pcg_selection)\u001b[0m\n\u001b[0;32m    191\u001b[0m \u001b[1;33m\u001b[0m\u001b[0m\n\u001b[0;32m    192\u001b[0m         \u001b[0mself\u001b[0m\u001b[1;33m.\u001b[0m\u001b[0minterface_array\u001b[0m \u001b[1;33m=\u001b[0m\u001b[0;31m \u001b[0m\u001b[0;31m\\\u001b[0m\u001b[1;33m\u001b[0m\u001b[1;33m\u001b[0m\u001b[0m\n\u001b[1;32m--> 193\u001b[1;33m             \u001b[0mcreate_interface_array\u001b[0m\u001b[1;33m(\u001b[0m\u001b[0mself\u001b[0m\u001b[1;33m.\u001b[0m\u001b[0mminerals_N\u001b[0m\u001b[1;33m,\u001b[0m \u001b[0mtransitions_per_mineral\u001b[0m\u001b[1;33m)\u001b[0m\u001b[1;33m\u001b[0m\u001b[1;33m\u001b[0m\u001b[0m\n\u001b[0m\u001b[0;32m    194\u001b[0m         \u001b[1;31m# self.interface_pairs = gen.create_pairs(self.interface_array)\u001b[0m\u001b[1;33m\u001b[0m\u001b[1;33m\u001b[0m\u001b[1;33m\u001b[0m\u001b[0m\n\u001b[0;32m    195\u001b[0m         \u001b[1;32mif\u001b[0m \u001b[0mtimed\u001b[0m\u001b[1;33m:\u001b[0m\u001b[1;33m\u001b[0m\u001b[1;33m\u001b[0m\u001b[0m\n",
      "\u001b[1;31mIndexError\u001b[0m: tuple index out of range"
     ]
    }
   ],
   "source": [
    "sedgen_CA_NS_list = []\n",
    "for i in range (len(par_rock_volumes)):\n",
    "    print(par_rock_volumes[i])\n",
    "    sedgen_CA_NS = SedGen (minerals, par_rock_volumes[i], modal_mineralogy, csds_CA_NS_means, csds_CA_NS_stds, learning_rate=10000, timed = False)\n",
    "    sedgen_CA_NS_list.append(sedgen_CA_NS)\n",
    "    \n",
    "\n",
    "#now the model should have ran 9 times for different parent rock volumes, and the variable 'sedgen_CA_NS_list' should contain the output\n",
    "#"
   ]
  },
  {
   "cell_type": "code",
   "execution_count": 10,
   "metadata": {},
   "outputs": [
    {
     "data": {
      "text/plain": [
       "array([3.0591989e+08, 3.8159713e+08, 2.6209888e+08, 1.8825600e+07,\n",
       "       7.9924700e+06, 2.3566030e+07])"
      ]
     },
     "execution_count": 10,
     "metadata": {},
     "output_type": "execute_result"
    }
   ],
   "source": [
    "par_rock_volumes[0] * modal_mineralogy"
   ]
  },
  {
   "cell_type": "code",
   "execution_count": 18,
   "metadata": {},
   "outputs": [
    {
     "data": {
      "text/plain": [
       "0"
      ]
     },
     "execution_count": 18,
     "metadata": {},
     "output_type": "execute_result"
    },
    {
     "data": {
      "text/plain": [
       "array([0.30594789, 0.38160202, 0.26209888, 0.0188263 , 0.0080586 ,\n",
       "       0.02367934])"
      ]
     },
     "execution_count": 18,
     "metadata": {},
     "output_type": "execute_result"
    },
    {
     "data": {
      "text/plain": [
       "100021302.14301005"
      ]
     },
     "execution_count": 18,
     "metadata": {},
     "output_type": "execute_result"
    }
   ],
   "source": [
    "np.sum(sedgen_CA_NS_list[0].mcg)\n",
    "sedgen_CA_NS_list[1].simulated_volume/1e8\n",
    "np.sum(sedgen_CA_NS_list[1].simulated_volume)"
   ]
  },
  {
   "cell_type": "code",
   "execution_count": 14,
   "metadata": {},
   "outputs": [],
   "source": []
  },
  {
   "cell_type": "code",
   "execution_count": null,
   "metadata": {},
   "outputs": [],
   "source": []
  }
 ],
 "metadata": {
  "kernelspec": {
   "display_name": "Python [conda env:sedgen]",
   "language": "python",
   "name": "conda-env-sedgen-py"
  },
  "language_info": {
   "codemirror_mode": {
    "name": "ipython",
    "version": 3
   },
   "file_extension": ".py",
   "mimetype": "text/x-python",
   "name": "python",
   "nbconvert_exporter": "python",
   "pygments_lexer": "ipython3",
   "version": "3.8.5"
  }
 },
 "nbformat": 4,
 "nbformat_minor": 4
}
